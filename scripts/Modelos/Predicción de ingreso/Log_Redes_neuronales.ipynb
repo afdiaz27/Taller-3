{
  "nbformat": 4,
  "nbformat_minor": 0,
  "metadata": {
    "colab": {
      "provenance": []
    },
    "kernelspec": {
      "name": "ir",
      "display_name": "R"
    },
    "language_info": {
      "name": "R"
    }
  },
  "cells": [
    {
      "cell_type": "code",
      "execution_count": 1,
      "metadata": {
        "colab": {
          "base_uri": "https://localhost:8080/"
        },
        "id": "oUh2eCKzLxiK",
        "outputId": "abb5adf2-c273-4bc9-8c93-3f713e24542c"
      },
      "outputs": [
        {
          "output_type": "stream",
          "name": "stderr",
          "text": [
            "Installing package into ‘/usr/local/lib/R/site-library’\n",
            "(as ‘lib’ is unspecified)\n",
            "\n"
          ]
        }
      ],
      "source": [
        "install.packages('pacman')\n",
        "library(pacman)\n",
        "p_load(tidyverse,rio,tidymodels, keras, ggplot2, themis, yardstick, tensorflow)"
      ]
    },
    {
      "cell_type": "code",
      "source": [
        "train_hogares <- read.csv('/content/train_hogares_3.csv')\n",
        "test_hogares <- read.csv('/content/test_hogares_3.csv')\n",
        "train_personas <- read.csv('/content/train_personas_3.csv')\n",
        "test_personas <- read.csv('/content/test_personas_3.csv')"
      ],
      "metadata": {
        "id": "xqQf3L9GP3-j"
      },
      "execution_count": 2,
      "outputs": []
    },
    {
      "cell_type": "code",
      "source": [
        "train_personas <- train_personas %>% mutate(LogIngreso = log(Ingreso+0.00001))\n",
        "\n",
        "train_personas <- train_personas %>% mutate(Edad2 = Edad^2)\n",
        "\n",
        "test_personas <- test_personas %>% mutate(Edad2 = Edad^2)\n",
        "\n",
        "#train_personas <- train_personas %>% mutate(SexoEdad = Sexo*Edad)\n",
        "\n",
        "#test_personas <- test_personas %>% mutate(SexoEdad = Sexo*Edad)"
      ],
      "metadata": {
        "id": "q3RP9BnfMAUa"
      },
      "execution_count": 3,
      "outputs": []
    },
    {
      "cell_type": "code",
      "source": [
        "set.seed(123)\n",
        "splitting <- initial_split(train_personas, prop = 0.8)\n",
        "train_data <- training(splitting)\n",
        "val_data <- testing(splitting)\n",
        "test_data <- test_personas\n"
      ],
      "metadata": {
        "id": "ZQ1upEskQW8v"
      },
      "execution_count": 4,
      "outputs": []
    },
    {
      "cell_type": "code",
      "source": [
        "summary(train_data)\n",
        "glimpse(train_data)"
      ],
      "metadata": {
        "colab": {
          "base_uri": "https://localhost:8080/",
          "height": 1000
        },
        "id": "vQ_rkNhqRFSo",
        "outputId": "bc4be294-e959-4ea5-8926-caa239f7f853"
      },
      "execution_count": 5,
      "outputs": [
        {
          "output_type": "display_data",
          "data": {
            "text/plain": [
              "      id                 Sexo            Edad          JefeHogar    \n",
              " Length:434487      Min.   :1.000   Min.   :  0.00   Min.   :1.000  \n",
              " Class :character   1st Qu.:1.000   1st Qu.: 16.00   1st Qu.:1.000  \n",
              " Mode  :character   Median :2.000   Median : 30.00   Median :3.000  \n",
              "                    Mean   :1.529   Mean   : 33.53   Mean   :2.594  \n",
              "                    3rd Qu.:2.000   3rd Qu.: 50.00   3rd Qu.:3.000  \n",
              "                    Max.   :2.000   Max.   :110.00   Max.   :9.000  \n",
              "  FormalSalud    SeguridadSocial  maxEducLevel       relab      \n",
              " Min.   :1.000   Min.   :1.000   Min.   :1.000   Min.   :1.000  \n",
              " 1st Qu.:1.000   1st Qu.:1.000   1st Qu.:3.000   1st Qu.:4.000  \n",
              " Median :1.000   Median :1.000   Median :4.000   Median :4.000  \n",
              " Mean   :1.059   Mean   :1.769   Mean   :4.192   Mean   :3.504  \n",
              " 3rd Qu.:1.000   3rd Qu.:3.000   3rd Qu.:5.000   3rd Qu.:4.000  \n",
              " Max.   :9.000   Max.   :9.000   Max.   :9.000   Max.   :9.000  \n",
              "   SubsAlimen      SubsTrans       SubsFamil     SubsEducativo    Viaticos    \n",
              " Min.   :1.000   Min.   :1.000   Min.   :1.000   Min.   :1     Min.   :1.000  \n",
              " 1st Qu.:2.000   1st Qu.:2.000   1st Qu.:2.000   1st Qu.:2     1st Qu.:2.000  \n",
              " Median :2.000   Median :2.000   Median :2.000   Median :2     Median :2.000  \n",
              " Mean   :1.997   Mean   :1.905   Mean   :1.955   Mean   :2     Mean   :1.994  \n",
              " 3rd Qu.:2.000   3rd Qu.:2.000   3rd Qu.:2.000   3rd Qu.:2     3rd Qu.:2.000  \n",
              " Max.   :9.000   Max.   :9.000   Max.   :9.000   Max.   :9     Max.   :2.000  \n",
              " Bonificaciones hoursWorkUsual      sizeFirm     FormalPension      MasHoras   \n",
              " Min.   :1      Min.   :  1.00   Min.   :1.000   Min.   :1.000   Min.   :1.00  \n",
              " 1st Qu.:2      1st Qu.: 48.00   1st Qu.:1.000   1st Qu.:2.000   1st Qu.:2.00  \n",
              " Median :2      Median : 48.00   Median :1.000   Median :2.000   Median :2.00  \n",
              " Mean   :2      Mean   : 46.54   Mean   :2.316   Mean   :1.833   Mean   :1.96  \n",
              " 3rd Qu.:2      3rd Qu.: 48.00   3rd Qu.:2.000   3rd Qu.:2.000   3rd Qu.:2.00  \n",
              " Max.   :2      Max.   :130.00   Max.   :9.000   Max.   :3.000   Max.   :2.00  \n",
              " PagosExtraPensArri     Ayuda        GanancFinan     EdadTrabajo    \n",
              " Min.   :1.000      Min.   :1.000   Min.   :1.000   Min.   :0.0000  \n",
              " 1st Qu.:2.000      1st Qu.:2.000   1st Qu.:2.000   1st Qu.:1.0000  \n",
              " Median :2.000      Median :2.000   Median :2.000   Median :1.0000  \n",
              " Mean   :1.925      Mean   :1.947   Mean   :1.999   Mean   :0.8241  \n",
              " 3rd Qu.:2.000      3rd Qu.:2.000   3rd Qu.:2.000   3rd Qu.:1.0000  \n",
              " Max.   :2.000      Max.   :9.000   Max.   :9.000   Max.   :1.0000  \n",
              "      Ocu             Desocu            Inact           Ingreso        \n",
              " Min.   :0.0000   Min.   :0.00000   Min.   :0.0000   Min.   :       0  \n",
              " 1st Qu.:0.0000   1st Qu.:0.00000   1st Qu.:0.0000   1st Qu.:       0  \n",
              " Median :0.0000   Median :0.00000   Median :0.0000   Median :  180000  \n",
              " Mean   :0.4569   Mean   :0.05547   Mean   :0.3117   Mean   :  637581  \n",
              " 3rd Qu.:1.0000   3rd Qu.:0.00000   3rd Qu.:1.0000   3rd Qu.:  900000  \n",
              " Max.   :1.0000   Max.   :1.00000   Max.   :1.0000   Max.   :85833333  \n",
              "   LogIngreso          Edad2      \n",
              " Min.   :-11.513   Min.   :    0  \n",
              " 1st Qu.:-11.513   1st Qu.:  256  \n",
              " Median : 12.101   Median :  900  \n",
              " Mean   :  2.748   Mean   : 1593  \n",
              " 3rd Qu.: 13.710   3rd Qu.: 2500  \n",
              " Max.   : 18.268   Max.   :12100  "
            ]
          },
          "metadata": {}
        },
        {
          "output_type": "stream",
          "name": "stdout",
          "text": [
            "Rows: 434,487\n",
            "Columns: 28\n",
            "$ id                 \u001b[3m\u001b[90m<chr>\u001b[39m\u001b[23m \"2208fcec0ee8bb5158947bfd\", \"8fc4966a4ca0af35b21dfe…\n",
            "$ Sexo               \u001b[3m\u001b[90m<int>\u001b[39m\u001b[23m 1, 1, 1, 2, 1, 2, 2, 1, 2, 2, 1, 2, 1, 1, 1, 1, 2, …\n",
            "$ Edad               \u001b[3m\u001b[90m<int>\u001b[39m\u001b[23m 52, 64, 1, 81, 2, 23, 37, 37, 16, 22, 17, 3, 63, 59…\n",
            "$ JefeHogar          \u001b[3m\u001b[90m<int>\u001b[39m\u001b[23m 1, 1, 4, 5, 9, 3, 2, 1, 3, 2, 3, 3, 1, 1, 1, 1, 3, …\n",
            "$ FormalSalud        \u001b[3m\u001b[90m<int>\u001b[39m\u001b[23m 1, 2, 1, 1, 1, 1, 1, 1, 1, 1, 1, 1, 1, 1, 1, 1, 1, …\n",
            "$ SeguridadSocial    \u001b[3m\u001b[90m<int>\u001b[39m\u001b[23m 1, 1, 1, 3, 1, 3, 1, 3, 3, 1, 1, 1, 1, 1, 1, 1, 3, …\n",
            "$ maxEducLevel       \u001b[3m\u001b[90m<int>\u001b[39m\u001b[23m 3, 3, 3, 1, 3, 6, 5, 4, 5, 6, 6, 2, 6, 5, 3, 5, 6, …\n",
            "$ relab              \u001b[3m\u001b[90m<int>\u001b[39m\u001b[23m 1, 4, 4, 4, 4, 4, 4, 1, 4, 4, 4, 4, 4, 4, 2, 4, 4, …\n",
            "$ SubsAlimen         \u001b[3m\u001b[90m<int>\u001b[39m\u001b[23m 2, 2, 2, 2, 2, 2, 2, 2, 2, 2, 2, 2, 2, 2, 2, 2, 2, …\n",
            "$ SubsTrans          \u001b[3m\u001b[90m<int>\u001b[39m\u001b[23m 1, 2, 2, 2, 2, 2, 2, 2, 2, 2, 2, 2, 2, 2, 1, 2, 2, …\n",
            "$ SubsFamil          \u001b[3m\u001b[90m<int>\u001b[39m\u001b[23m 2, 2, 2, 2, 2, 2, 2, 2, 2, 2, 2, 2, 2, 2, 2, 2, 2, …\n",
            "$ SubsEducativo      \u001b[3m\u001b[90m<int>\u001b[39m\u001b[23m 2, 2, 2, 2, 2, 2, 2, 2, 2, 2, 2, 2, 2, 2, 2, 2, 2, …\n",
            "$ Viaticos           \u001b[3m\u001b[90m<int>\u001b[39m\u001b[23m 2, 2, 2, 2, 2, 2, 2, 2, 2, 2, 2, 2, 2, 2, 2, 2, 2, …\n",
            "$ Bonificaciones     \u001b[3m\u001b[90m<int>\u001b[39m\u001b[23m 2, 2, 2, 2, 2, 2, 2, 2, 2, 2, 2, 2, 2, 2, 2, 2, 2, …\n",
            "$ hoursWorkUsual     \u001b[3m\u001b[90m<int>\u001b[39m\u001b[23m 48, 20, 48, 48, 48, 30, 48, 70, 48, 48, 48, 48, 40,…\n",
            "$ sizeFirm           \u001b[3m\u001b[90m<int>\u001b[39m\u001b[23m 9, 1, 1, 1, 1, 1, 1, 3, 1, 1, 1, 1, 1, 1, 7, 1, 1, …\n",
            "$ FormalPension      \u001b[3m\u001b[90m<int>\u001b[39m\u001b[23m 1, 2, 2, 2, 2, 2, 2, 2, 2, 2, 2, 2, 3, 2, 1, 1, 2, …\n",
            "$ MasHoras           \u001b[3m\u001b[90m<int>\u001b[39m\u001b[23m 2, 1, 2, 2, 2, 1, 2, 2, 2, 2, 2, 2, 2, 2, 2, 2, 2, …\n",
            "$ PagosExtraPensArri \u001b[3m\u001b[90m<int>\u001b[39m\u001b[23m 2, 2, 2, 2, 2, 2, 2, 2, 2, 2, 2, 2, 1, 2, 2, 2, 2, …\n",
            "$ Ayuda              \u001b[3m\u001b[90m<int>\u001b[39m\u001b[23m 2, 2, 2, 1, 2, 2, 2, 2, 2, 2, 2, 2, 2, 2, 2, 2, 2, …\n",
            "$ GanancFinan        \u001b[3m\u001b[90m<int>\u001b[39m\u001b[23m 2, 2, 2, 2, 2, 2, 2, 2, 2, 2, 2, 2, 2, 2, 2, 2, 2, …\n",
            "$ EdadTrabajo        \u001b[3m\u001b[90m<int>\u001b[39m\u001b[23m 1, 1, 0, 1, 0, 1, 1, 1, 1, 1, 1, 0, 1, 1, 1, 1, 1, …\n",
            "$ Ocu                \u001b[3m\u001b[90m<int>\u001b[39m\u001b[23m 1, 1, 0, 0, 0, 1, 0, 1, 0, 0, 0, 0, 1, 1, 1, 1, 0, …\n",
            "$ Desocu             \u001b[3m\u001b[90m<int>\u001b[39m\u001b[23m 0, 0, 0, 0, 0, 0, 0, 0, 0, 0, 0, 0, 0, 0, 0, 0, 0, …\n",
            "$ Inact              \u001b[3m\u001b[90m<int>\u001b[39m\u001b[23m 0, 0, 0, 1, 0, 0, 1, 0, 1, 1, 1, 0, 0, 0, 0, 0, 1, …\n",
            "$ Ingreso            \u001b[3m\u001b[90m<dbl>\u001b[39m\u001b[23m 874000, 450000, 0, 160000, 0, 3000000, 0, 680000, 0…\n",
            "$ LogIngreso         \u001b[3m\u001b[90m<dbl>\u001b[39m\u001b[23m 13.68084, 13.01700, -11.51293, 11.98293, -11.51293,…\n",
            "$ Edad2              \u001b[3m\u001b[90m<dbl>\u001b[39m\u001b[23m 2704, 4096, 1, 6561, 4, 529, 1369, 1369, 256, 484, …\n"
          ]
        }
      ]
    },
    {
      "cell_type": "code",
      "source": [
        "x_train <- train_data %>% select(- c(id,Ingreso,LogIngreso))\n",
        "y_train <-train_data %>% pull(LogIngreso)\n",
        "x_val <- val_data %>% select(- c(id,Ingreso,LogIngreso))\n",
        "y_val <- val_data %>% pull(LogIngreso)\n",
        "glimpse(x_train)"
      ],
      "metadata": {
        "colab": {
          "base_uri": "https://localhost:8080/"
        },
        "id": "-ThEizbYQFr6",
        "outputId": "7f10ecfe-8ca5-4211-df54-486476cbdaa0"
      },
      "execution_count": 6,
      "outputs": [
        {
          "output_type": "stream",
          "name": "stdout",
          "text": [
            "Rows: 434,487\n",
            "Columns: 25\n",
            "$ Sexo               \u001b[3m\u001b[90m<int>\u001b[39m\u001b[23m 1, 1, 1, 2, 1, 2, 2, 1, 2, 2, 1, 2, 1, 1, 1, 1, 2, …\n",
            "$ Edad               \u001b[3m\u001b[90m<int>\u001b[39m\u001b[23m 52, 64, 1, 81, 2, 23, 37, 37, 16, 22, 17, 3, 63, 59…\n",
            "$ JefeHogar          \u001b[3m\u001b[90m<int>\u001b[39m\u001b[23m 1, 1, 4, 5, 9, 3, 2, 1, 3, 2, 3, 3, 1, 1, 1, 1, 3, …\n",
            "$ FormalSalud        \u001b[3m\u001b[90m<int>\u001b[39m\u001b[23m 1, 2, 1, 1, 1, 1, 1, 1, 1, 1, 1, 1, 1, 1, 1, 1, 1, …\n",
            "$ SeguridadSocial    \u001b[3m\u001b[90m<int>\u001b[39m\u001b[23m 1, 1, 1, 3, 1, 3, 1, 3, 3, 1, 1, 1, 1, 1, 1, 1, 3, …\n",
            "$ maxEducLevel       \u001b[3m\u001b[90m<int>\u001b[39m\u001b[23m 3, 3, 3, 1, 3, 6, 5, 4, 5, 6, 6, 2, 6, 5, 3, 5, 6, …\n",
            "$ relab              \u001b[3m\u001b[90m<int>\u001b[39m\u001b[23m 1, 4, 4, 4, 4, 4, 4, 1, 4, 4, 4, 4, 4, 4, 2, 4, 4, …\n",
            "$ SubsAlimen         \u001b[3m\u001b[90m<int>\u001b[39m\u001b[23m 2, 2, 2, 2, 2, 2, 2, 2, 2, 2, 2, 2, 2, 2, 2, 2, 2, …\n",
            "$ SubsTrans          \u001b[3m\u001b[90m<int>\u001b[39m\u001b[23m 1, 2, 2, 2, 2, 2, 2, 2, 2, 2, 2, 2, 2, 2, 1, 2, 2, …\n",
            "$ SubsFamil          \u001b[3m\u001b[90m<int>\u001b[39m\u001b[23m 2, 2, 2, 2, 2, 2, 2, 2, 2, 2, 2, 2, 2, 2, 2, 2, 2, …\n",
            "$ SubsEducativo      \u001b[3m\u001b[90m<int>\u001b[39m\u001b[23m 2, 2, 2, 2, 2, 2, 2, 2, 2, 2, 2, 2, 2, 2, 2, 2, 2, …\n",
            "$ Viaticos           \u001b[3m\u001b[90m<int>\u001b[39m\u001b[23m 2, 2, 2, 2, 2, 2, 2, 2, 2, 2, 2, 2, 2, 2, 2, 2, 2, …\n",
            "$ Bonificaciones     \u001b[3m\u001b[90m<int>\u001b[39m\u001b[23m 2, 2, 2, 2, 2, 2, 2, 2, 2, 2, 2, 2, 2, 2, 2, 2, 2, …\n",
            "$ hoursWorkUsual     \u001b[3m\u001b[90m<int>\u001b[39m\u001b[23m 48, 20, 48, 48, 48, 30, 48, 70, 48, 48, 48, 48, 40,…\n",
            "$ sizeFirm           \u001b[3m\u001b[90m<int>\u001b[39m\u001b[23m 9, 1, 1, 1, 1, 1, 1, 3, 1, 1, 1, 1, 1, 1, 7, 1, 1, …\n",
            "$ FormalPension      \u001b[3m\u001b[90m<int>\u001b[39m\u001b[23m 1, 2, 2, 2, 2, 2, 2, 2, 2, 2, 2, 2, 3, 2, 1, 1, 2, …\n",
            "$ MasHoras           \u001b[3m\u001b[90m<int>\u001b[39m\u001b[23m 2, 1, 2, 2, 2, 1, 2, 2, 2, 2, 2, 2, 2, 2, 2, 2, 2, …\n",
            "$ PagosExtraPensArri \u001b[3m\u001b[90m<int>\u001b[39m\u001b[23m 2, 2, 2, 2, 2, 2, 2, 2, 2, 2, 2, 2, 1, 2, 2, 2, 2, …\n",
            "$ Ayuda              \u001b[3m\u001b[90m<int>\u001b[39m\u001b[23m 2, 2, 2, 1, 2, 2, 2, 2, 2, 2, 2, 2, 2, 2, 2, 2, 2, …\n",
            "$ GanancFinan        \u001b[3m\u001b[90m<int>\u001b[39m\u001b[23m 2, 2, 2, 2, 2, 2, 2, 2, 2, 2, 2, 2, 2, 2, 2, 2, 2, …\n",
            "$ EdadTrabajo        \u001b[3m\u001b[90m<int>\u001b[39m\u001b[23m 1, 1, 0, 1, 0, 1, 1, 1, 1, 1, 1, 0, 1, 1, 1, 1, 1, …\n",
            "$ Ocu                \u001b[3m\u001b[90m<int>\u001b[39m\u001b[23m 1, 1, 0, 0, 0, 1, 0, 1, 0, 0, 0, 0, 1, 1, 1, 1, 0, …\n",
            "$ Desocu             \u001b[3m\u001b[90m<int>\u001b[39m\u001b[23m 0, 0, 0, 0, 0, 0, 0, 0, 0, 0, 0, 0, 0, 0, 0, 0, 0, …\n",
            "$ Inact              \u001b[3m\u001b[90m<int>\u001b[39m\u001b[23m 0, 0, 0, 1, 0, 0, 1, 0, 1, 1, 1, 0, 0, 0, 0, 0, 1, …\n",
            "$ Edad2              \u001b[3m\u001b[90m<dbl>\u001b[39m\u001b[23m 2704, 4096, 1, 6561, 4, 529, 1369, 1369, 256, 484, …\n"
          ]
        }
      ]
    },
    {
      "cell_type": "code",
      "source": [
        "rec <- recipe(~., data = x_train) %>%\n",
        "  step_normalize(all_numeric())\n",
        "x_train <- prep(rec) %>% bake(new_data = x_train)\n",
        "x_val <- prep(rec) %>% bake(new_data = x_val)"
      ],
      "metadata": {
        "id": "65vXUrikR05T"
      },
      "execution_count": 7,
      "outputs": []
    },
    {
      "cell_type": "code",
      "source": [
        "lista_var_pers_train_categ  <- c('Sexo', 'JefeHogar', 'FormalSalud', 'SeguridadSocial', 'maxEducLevel', 'relab', 'SubsAlimen', 'SubsTrans', 'SubsFamil', 'SubsEducativo', 'Viaticos', 'Bonificaciones', 'FormalPension', 'MasHoras', 'PagosExtraPensArri', 'Ayuda', 'GanancFinan')\n",
        "x_train<- x_train %>% model.matrix(~ . - 1, data = .)\n",
        "x_val<- x_val %>% model.matrix(~ . - 1, data = .)\n"
      ],
      "metadata": {
        "id": "pKii2EPfWiAj"
      },
      "execution_count": 8,
      "outputs": []
    },
    {
      "cell_type": "code",
      "source": [
        "glimpse(x_train)\n",
        "glimpse(x_val)"
      ],
      "metadata": {
        "colab": {
          "base_uri": "https://localhost:8080/"
        },
        "id": "HjgV0cyAZuab",
        "outputId": "07723ff2-b472-4983-a3b8-41b3e1e3663e"
      },
      "execution_count": 9,
      "outputs": [
        {
          "output_type": "stream",
          "name": "stdout",
          "text": [
            " num [1:434487, 1:25] -1.06 -1.06 -1.06 0.944 -1.06 ...\n",
            " - attr(*, \"dimnames\")=List of 2\n",
            "  ..$ : chr [1:434487] \"1\" \"2\" \"3\" \"4\" ...\n",
            "  ..$ : chr [1:25] \"Sexo\" \"Edad\" \"JefeHogar\" \"FormalSalud\" ...\n",
            " - attr(*, \"assign\")= int [1:25] 1 2 3 4 5 6 7 8 9 10 ...\n",
            " num [1:108622, 1:25] -1.06 -1.06 -1.06 0.944 0.944 ...\n",
            " - attr(*, \"dimnames\")=List of 2\n",
            "  ..$ : chr [1:108622] \"1\" \"2\" \"3\" \"4\" ...\n",
            "  ..$ : chr [1:25] \"Sexo\" \"Edad\" \"JefeHogar\" \"FormalSalud\" ...\n",
            " - attr(*, \"assign\")= int [1:25] 1 2 3 4 5 6 7 8 9 10 ...\n"
          ]
        }
      ]
    },
    {
      "cell_type": "code",
      "source": [
        "EPOCHS <- 50\n",
        "BATCH_SIZE <- 5112"
      ],
      "metadata": {
        "id": "0dyz-GueSG81"
      },
      "execution_count": 10,
      "outputs": []
    },
    {
      "cell_type": "code",
      "source": [
        "tf$random$set_seed(123)"
      ],
      "metadata": {
        "id": "l9r5olwvSfU4"
      },
      "execution_count": 11,
      "outputs": []
    },
    {
      "cell_type": "code",
      "source": [
        "model <- keras_model_sequential() %>%\n",
        "    layer_dense(units = 64, activation = 'sigmoid', input_shape = ncol(x_train))%>%\n",
        "    layer_dense(units = 32, activation = 'sigmoid')%>%\n",
        "    layer_dropout(rate = 0.5) %>%\n",
        "    layer_dense(units = 1)\n",
        "\n",
        "model %>% compile(\n",
        "    optimizer = optimizer_rmsprop(),\n",
        "    loss = \"mean_squared_error\",\n",
        "    metrics = c(\"mean_absolute_error\")\n",
        "  )\n",
        "\n",
        "  ##optimizer_adam(learning_rate = 1e-3)"
      ],
      "metadata": {
        "id": "RKU2a48GS_jH"
      },
      "execution_count": 12,
      "outputs": []
    },
    {
      "cell_type": "code",
      "source": [
        "# entrenamiento\n",
        "historia_modelo_basico <- model %>% fit(\n",
        "  x = x_train,\n",
        "  y = y_train,\n",
        "  batch_size = BATCH_SIZE,\n",
        "  epochs = EPOCHS,\n",
        "  validation_data = list(x_val, y_val),\n",
        "  verbose = 0\n",
        ")"
      ],
      "metadata": {
        "id": "NwOys9TyTpEc"
      },
      "execution_count": 13,
      "outputs": []
    },
    {
      "cell_type": "code",
      "source": [
        "historia_modelo_basico"
      ],
      "metadata": {
        "colab": {
          "base_uri": "https://localhost:8080/",
          "height": 127
        },
        "id": "wJBolIvMTva4",
        "outputId": "b2bd1b24-40eb-4962-d3c5-d337a34fd92c"
      },
      "execution_count": 14,
      "outputs": [
        {
          "output_type": "display_data",
          "data": {
            "text/plain": [
              "\n",
              "Final epoch (plot to see history):\n",
              "                   loss: 30.45\n",
              "    mean_absolute_error: 3.728\n",
              "               val_loss: 23.08\n",
              "val_mean_absolute_error: 2.568 "
            ]
          },
          "metadata": {}
        }
      ]
    },
    {
      "cell_type": "code",
      "source": [
        "plot(historia_modelo_basico)"
      ],
      "metadata": {
        "colab": {
          "base_uri": "https://localhost:8080/",
          "height": 437
        },
        "id": "KRtBaEllT3BT",
        "outputId": "58fcff7a-9746-41ae-95b8-3ca8e6962233"
      },
      "execution_count": 15,
      "outputs": [
        {
          "output_type": "display_data",
          "data": {
            "text/plain": [
              "plot without title"
            ],
            "image/png": "[encoded data removed]"
          },
          "metadata": {
            "image/png": {
              "width": 420,
              "height": 420
            }
          }
        }
      ]
    },
    {
      "cell_type": "code",
      "source": [
        "x_train_completa <- train_personas %>% select(- c(id,LogIngreso))"
      ],
      "metadata": {
        "id": "noknOe1ljz3x"
      },
      "execution_count": 16,
      "outputs": []
    },
    {
      "cell_type": "code",
      "source": [
        "x_test<-test_data %>% select(- c(id))"
      ],
      "metadata": {
        "id": "vHHCJAwT1u2Q"
      },
      "execution_count": 17,
      "outputs": []
    },
    {
      "cell_type": "code",
      "source": [
        "x_train_completa <- prep(rec) %>% bake(new_data = x_train_completa)\n",
        "x_test <- prep(rec) %>% bake(new_data = x_test)\n",
        "glimpse(x_train_completa)\n",
        "glimpse(x_test)"
      ],
      "metadata": {
        "colab": {
          "base_uri": "https://localhost:8080/"
        },
        "id": "HgFKUfnZkcfL",
        "outputId": "a66b150a-e6cf-459a-9b70-e9fdce296d8b"
      },
      "execution_count": 18,
      "outputs": [
        {
          "output_type": "stream",
          "name": "stdout",
          "text": [
            "Rows: 543,109\n",
            "Columns: 25\n",
            "$ Sexo               \u001b[3m\u001b[90m<dbl>\u001b[39m\u001b[23m 0.9437339, -1.0596183, -1.0596183, -1.0596183, -1.0…\n",
            "$ Edad               \u001b[3m\u001b[90m<dbl>\u001b[39m\u001b[23m 0.20659289, -1.41024049, 0.34517860, -1.41024049, -…\n",
            "$ JefeHogar          \u001b[3m\u001b[90m<dbl>\u001b[39m\u001b[23m -0.3898100, 0.2667571, -1.0463771, 0.2667571, 0.266…\n",
            "$ FormalSalud        \u001b[3m\u001b[90m<dbl>\u001b[39m\u001b[23m -0.2077285, -0.2077285, -0.2077285, -0.2077285, -0.…\n",
            "$ SeguridadSocial    \u001b[3m\u001b[90m<dbl>\u001b[39m\u001b[23m -0.8005391, -0.8005391, -0.8005391, -0.8005391, -0.…\n",
            "$ maxEducLevel       \u001b[3m\u001b[90m<dbl>\u001b[39m\u001b[23m -0.8441523, -1.5524972, 0.5725375, -1.5524972, -0.1…\n",
            "$ relab              \u001b[3m\u001b[90m<dbl>\u001b[39m\u001b[23m -1.9933655, 0.3949122, -1.9933655, 0.3949122, 0.394…\n",
            "$ SubsAlimen         \u001b[3m\u001b[90m<dbl>\u001b[39m\u001b[23m 0.02343799, 0.02343799, 0.02343799, 0.02343799, 0.0…\n",
            "$ SubsTrans          \u001b[3m\u001b[90m<dbl>\u001b[39m\u001b[23m -2.5197032, 0.2648019, -2.5197032, 0.2648019, 0.264…\n",
            "$ SubsFamil          \u001b[3m\u001b[90m<dbl>\u001b[39m\u001b[23m -4.040046, 0.189870, -4.040046, 0.189870, 0.189870,…\n",
            "$ SubsEducativo      \u001b[3m\u001b[90m<dbl>\u001b[39m\u001b[23m 0.00123885, 0.00123885, 0.00123885, 0.00123885, 0.0…\n",
            "$ Viaticos           \u001b[3m\u001b[90m<dbl>\u001b[39m\u001b[23m 0.07535105, 0.07535105, 0.07535105, 0.07535105, 0.0…\n",
            "$ Bonificaciones     \u001b[3m\u001b[90m<dbl>\u001b[39m\u001b[23m 0.01876866, 0.01876866, 0.01876866, 0.01876866, 0.0…\n",
            "$ hoursWorkUsual     \u001b[3m\u001b[90m<dbl>\u001b[39m\u001b[23m 0.1361040, 0.1361040, 1.2523863, 0.1361040, 0.13610…\n",
            "$ sizeFirm           \u001b[3m\u001b[90m<dbl>\u001b[39m\u001b[23m 0.6367573, -0.4975141, 2.5272097, -0.4975141, -0.49…\n",
            "$ FormalPension      \u001b[3m\u001b[90m<dbl>\u001b[39m\u001b[23m -2.112468, 0.422238, -2.112468, 0.422238, 0.422238,…\n",
            "$ MasHoras           \u001b[3m\u001b[90m<dbl>\u001b[39m\u001b[23m 0.2043778, 0.2043778, 0.2043778, 0.2043778, 0.20437…\n",
            "$ PagosExtraPensArri \u001b[3m\u001b[90m<dbl>\u001b[39m\u001b[23m 0.2855138, 0.2855138, 0.2855138, 0.2855138, 0.28551…\n",
            "$ Ayuda              \u001b[3m\u001b[90m<dbl>\u001b[39m\u001b[23m 0.233273, 0.233273, 0.233273, 0.233273, 0.233273, 0…\n",
            "$ GanancFinan        \u001b[3m\u001b[90m<dbl>\u001b[39m\u001b[23m 0.01120372, 0.01120372, 0.01120372, 0.01120372, 0.0…\n",
            "$ EdadTrabajo        \u001b[3m\u001b[90m<dbl>\u001b[39m\u001b[23m 0.4619445, -2.1647571, 0.4619445, -2.1647571, -2.16…\n",
            "$ Ocu                \u001b[3m\u001b[90m<dbl>\u001b[39m\u001b[23m 1.0901917, -0.9172678, 1.0901917, -0.9172678, -0.91…\n",
            "$ Desocu             \u001b[3m\u001b[90m<dbl>\u001b[39m\u001b[23m -0.2423429, -0.2423429, -0.2423429, -0.2423429, -0.…\n",
            "$ Inact              \u001b[3m\u001b[90m<dbl>\u001b[39m\u001b[23m -0.6729961, -0.6729961, -0.6729961, -0.6729961, -0.…\n",
            "$ Edad2              \u001b[3m\u001b[90m<dbl>\u001b[39m\u001b[23m -0.08606263, -0.91649281, 0.05108856, -0.91649281, …\n",
            "Rows: 219,644\n",
            "Columns: 25\n",
            "$ Sexo               \u001b[3m\u001b[90m<dbl>\u001b[39m\u001b[23m -1.0596183, 0.9437339, 0.9437339, -1.0596183, -1.05…\n",
            "$ Edad               \u001b[3m\u001b[90m<dbl>\u001b[39m\u001b[23m -0.02438331, -1.22545954, 0.16039765, -1.31785001, …\n",
            "$ JefeHogar          \u001b[3m\u001b[90m<dbl>\u001b[39m\u001b[23m -1.0463771, 0.2667571, -0.3898100, 0.2667571, -1.04…\n",
            "$ FormalSalud        \u001b[3m\u001b[90m<dbl>\u001b[39m\u001b[23m -0.2077285, -0.2077285, -0.2077285, -0.2077285, -0.…\n",
            "$ SeguridadSocial    \u001b[3m\u001b[90m<dbl>\u001b[39m\u001b[23m -0.8005391, 1.2811975, -0.8005391, 1.2811975, -0.80…\n",
            "$ maxEducLevel       \u001b[3m\u001b[90m<dbl>\u001b[39m\u001b[23m 1.2808824, -0.8441523, 1.2808824, -1.5524972, 0.572…\n",
            "$ relab              \u001b[3m\u001b[90m<dbl>\u001b[39m\u001b[23m -1.9933655, 0.3949122, -0.4011804, 0.3949122, 0.394…\n",
            "$ SubsAlimen         \u001b[3m\u001b[90m<dbl>\u001b[39m\u001b[23m 0.02343799, 0.02343799, 0.02343799, 0.02343799, 0.0…\n",
            "$ SubsTrans          \u001b[3m\u001b[90m<dbl>\u001b[39m\u001b[23m 0.2648019, 0.2648019, 0.2648019, 0.2648019, 0.26480…\n",
            "$ SubsFamil          \u001b[3m\u001b[90m<dbl>\u001b[39m\u001b[23m 0.189870, 0.189870, 0.189870, 0.189870, 0.189870, 0…\n",
            "$ SubsEducativo      \u001b[3m\u001b[90m<dbl>\u001b[39m\u001b[23m 0.00123885, 0.00123885, 0.00123885, 0.00123885, 0.0…\n",
            "$ Viaticos           \u001b[3m\u001b[90m<dbl>\u001b[39m\u001b[23m 0.07535105, 0.07535105, 0.07535105, 0.07535105, 0.0…\n",
            "$ Bonificaciones     \u001b[3m\u001b[90m<dbl>\u001b[39m\u001b[23m 0.01876866, 0.01876866, 0.01876866, 0.01876866, 0.0…\n",
            "$ hoursWorkUsual     \u001b[3m\u001b[90m<dbl>\u001b[39m\u001b[23m 0.3221511, 0.1361040, -3.5848370, 0.1361040, 0.1361…\n",
            "$ sizeFirm           \u001b[3m\u001b[90m<dbl>\u001b[39m\u001b[23m 1.7710287, -0.4975141, -0.4975141, -0.4975141, -0.4…\n",
            "$ FormalPension      \u001b[3m\u001b[90m<dbl>\u001b[39m\u001b[23m -2.112468, 0.422238, 0.422238, 0.422238, 0.422238, …\n",
            "$ MasHoras           \u001b[3m\u001b[90m<dbl>\u001b[39m\u001b[23m 0.2043778, 0.2043778, -4.8928889, 0.2043778, 0.2043…\n",
            "$ PagosExtraPensArri \u001b[3m\u001b[90m<dbl>\u001b[39m\u001b[23m 0.2855138, 0.2855138, 0.2855138, 0.2855138, -3.5024…\n",
            "$ Ayuda              \u001b[3m\u001b[90m<dbl>\u001b[39m\u001b[23m 0.233273, 0.233273, 0.233273, 0.233273, 0.233273, 0…\n",
            "$ GanancFinan        \u001b[3m\u001b[90m<dbl>\u001b[39m\u001b[23m 0.01120372, 0.01120372, 0.01120372, 0.01120372, 0.0…\n",
            "$ EdadTrabajo        \u001b[3m\u001b[90m<dbl>\u001b[39m\u001b[23m 0.4619445, -2.1647571, 0.4619445, -2.1647571, -2.16…\n",
            "$ Ocu                \u001b[3m\u001b[90m<dbl>\u001b[39m\u001b[23m 1.0901917, -0.9172678, 1.0901917, -0.9172678, -0.91…\n",
            "$ Desocu             \u001b[3m\u001b[90m<dbl>\u001b[39m\u001b[23m -0.2423429, -0.2423429, -0.2423429, -0.2423429, -0.…\n",
            "$ Inact              \u001b[3m\u001b[90m<dbl>\u001b[39m\u001b[23m -0.6729961, -0.6729961, -0.6729961, -0.6729961, -0.…\n",
            "$ Edad2              \u001b[3m\u001b[90m<dbl>\u001b[39m\u001b[23m -0.2915001, -0.8933449, -0.1294649, -0.9072337, -0.…\n"
          ]
        }
      ]
    },
    {
      "cell_type": "code",
      "source": [
        "lista_var_pers_train_categ  <- c('Sexo', 'JefeHogar', 'FormalSalud', 'SeguridadSocial', 'maxEducLevel', 'relab', 'SubsAlimen', 'SubsTrans', 'SubsFamil', 'SubsEducativo', 'Viaticos', 'Bonificaciones', 'FormalPension', 'MasHoras', 'PagosExtraPensArri', 'Ayuda', 'GanancFinan')\n",
        "x_train_completa<- x_train_completa %>% model.matrix(~ . - 1, data = .)\n",
        "x_test<- x_test %>% model.matrix(~ . - 1, data = .)"
      ],
      "metadata": {
        "id": "r0veNGPXkDzX"
      },
      "execution_count": 19,
      "outputs": []
    },
    {
      "cell_type": "code",
      "source": [
        "Ingreso_pred_train <- model %>% predict(x_train_completa)\n"
      ],
      "metadata": {
        "id": "JqWY_6INjfrx"
      },
      "execution_count": 20,
      "outputs": []
    },
    {
      "cell_type": "code",
      "source": [
        "Ingreso_pred_train <- exp(Ingreso_pred_train)"
      ],
      "metadata": {
        "id": "yEhCerc1Pl0x"
      },
      "execution_count": 21,
      "outputs": []
    },
    {
      "cell_type": "code",
      "source": [
        "summary(Ingreso_pred_train)"
      ],
      "metadata": {
        "colab": {
          "base_uri": "https://localhost:8080/",
          "height": 145
        },
        "id": "EdDv095cnpo3",
        "outputId": "468af4bd-0645-4759-adfe-a21c3f39c573"
      },
      "execution_count": 22,
      "outputs": [
        {
          "output_type": "display_data",
          "data": {
            "text/plain": [
              "       V1        \n",
              " Min.   :     0  \n",
              " 1st Qu.:     0  \n",
              " Median : 52606  \n",
              " Mean   :207187  \n",
              " 3rd Qu.:505066  \n",
              " Max.   :561072  "
            ]
          },
          "metadata": {}
        }
      ]
    },
    {
      "cell_type": "code",
      "source": [
        "train_personas$Ingreso_pred_train<-Ingreso_pred_train\n",
        "\n",
        "Ingreso_train_hogar<-aggregate(train_personas$Ingreso_pred_train, by=list(Category=train_personas$id), FUN=sum)\n",
        "\n"
      ],
      "metadata": {
        "id": "nUplh3vslOSB"
      },
      "execution_count": 23,
      "outputs": []
    },
    {
      "cell_type": "code",
      "source": [
        "glimpse(Ingreso_train_hogar)"
      ],
      "metadata": {
        "colab": {
          "base_uri": "https://localhost:8080/"
        },
        "id": "xxAqDZMEmEyw",
        "outputId": "c2924a50-3d86-4482-861b-55e2d3310574"
      },
      "execution_count": 24,
      "outputs": [
        {
          "output_type": "stream",
          "name": "stdout",
          "text": [
            "Rows: 164,960\n",
            "Columns: 2\n",
            "$ Category \u001b[3m\u001b[90m<chr>\u001b[39m\u001b[23m \"00004a3f76ed8c33d84a5c70\", \"000088edf78cfaaf1791beba\", \"0000…\n",
            "$ V1       \u001b[3m\u001b[90m<dbl>\u001b[39m\u001b[23m 6.632296e+05, 1.852104e+05, 6.613765e+05, 2.337789e+05, 1.133…\n"
          ]
        }
      ]
    },
    {
      "cell_type": "code",
      "source": [
        "Ingreso_train_hogar$Ingreso_pred_train_hogar<-Ingreso_train_hogar$V1\n",
        "Ingreso_train_hogar$id<-Ingreso_train_hogar$Category\n",
        "glimpse(Ingreso_train_hogar)\n"
      ],
      "metadata": {
        "colab": {
          "base_uri": "https://localhost:8080/"
        },
        "id": "MHbdoTMCmAMG",
        "outputId": "2b8dc48c-774f-4d3e-cf5d-07f1640ea26b"
      },
      "execution_count": 25,
      "outputs": [
        {
          "output_type": "stream",
          "name": "stdout",
          "text": [
            "Rows: 164,960\n",
            "Columns: 4\n",
            "$ Category                 \u001b[3m\u001b[90m<chr>\u001b[39m\u001b[23m \"00004a3f76ed8c33d84a5c70\", \"000088edf78cfaaf…\n",
            "$ V1                       \u001b[3m\u001b[90m<dbl>\u001b[39m\u001b[23m 6.632296e+05, 1.852104e+05, 6.613765e+05, 2.3…\n",
            "$ Ingreso_pred_train_hogar \u001b[3m\u001b[90m<dbl>\u001b[39m\u001b[23m 6.632296e+05, 1.852104e+05, 6.613765e+05, 2.3…\n",
            "$ id                       \u001b[3m\u001b[90m<chr>\u001b[39m\u001b[23m \"00004a3f76ed8c33d84a5c70\", \"000088edf78cfaaf…\n"
          ]
        }
      ]
    },
    {
      "cell_type": "code",
      "source": [
        "\n",
        "train_hogares_comparacion<-merge(train_hogares, Ingreso_train_hogar, by='id', all.x=TRUE)"
      ],
      "metadata": {
        "id": "njmBQGzAmSgZ"
      },
      "execution_count": 26,
      "outputs": []
    },
    {
      "cell_type": "code",
      "source": [
        "head(train_hogares_comparacion)"
      ],
      "metadata": {
        "colab": {
          "base_uri": "https://localhost:8080/",
          "height": 358
        },
        "id": "BMEQPqS7loa_",
        "outputId": "20084851-122d-4431-9d9b-10b185289774"
      },
      "execution_count": 27,
      "outputs": [
        {
          "output_type": "display_data",
          "data": {
            "text/html": [
              "<table class=\"dataframe\">\n",
              "<caption>A data.frame: 6 × 20</caption>\n",
              "<thead>\n",
              "\t<tr><th></th><th scope=col>id</th><th scope=col>Clase</th><th scope=col>Dominio</th><th scope=col>cuartos</th><th scope=col>cuartosHab</th><th scope=col>Propiedad</th><th scope=col>ArriendoEst</th><th scope=col>Arriendo</th><th scope=col>Nper</th><th scope=col>Npersug</th><th scope=col>Ingtotug</th><th scope=col>Ingtotugarr</th><th scope=col>Ingpcug</th><th scope=col>Li</th><th scope=col>Lp</th><th scope=col>Pobre</th><th scope=col>Indigente</th><th scope=col>Category</th><th scope=col>V1</th><th scope=col>Ingreso_pred_train_hogar</th></tr>\n",
              "\t<tr><th></th><th scope=col>&lt;chr&gt;</th><th scope=col>&lt;int&gt;</th><th scope=col>&lt;chr&gt;</th><th scope=col>&lt;int&gt;</th><th scope=col>&lt;int&gt;</th><th scope=col>&lt;int&gt;</th><th scope=col>&lt;dbl&gt;</th><th scope=col>&lt;dbl&gt;</th><th scope=col>&lt;int&gt;</th><th scope=col>&lt;int&gt;</th><th scope=col>&lt;dbl&gt;</th><th scope=col>&lt;dbl&gt;</th><th scope=col>&lt;dbl&gt;</th><th scope=col>&lt;dbl&gt;</th><th scope=col>&lt;dbl&gt;</th><th scope=col>&lt;int&gt;</th><th scope=col>&lt;int&gt;</th><th scope=col>&lt;chr&gt;</th><th scope=col>&lt;dbl&gt;</th><th scope=col>&lt;dbl&gt;</th></tr>\n",
              "</thead>\n",
              "<tbody>\n",
              "\t<tr><th scope=row>1</th><td>00004a3f76ed8c33d84a5c70</td><td>1</td><td>RESTO URBANO</td><td>3</td><td>2</td><td>1</td><td>250000</td><td>     0</td><td>5</td><td>5</td><td>1076429</td><td>1326429</td><td>265285.9</td><td>121307.8</td><td>281549.3</td><td>1</td><td>0</td><td>00004a3f76ed8c33d84a5c70</td><td> 663229.6</td><td> 663229.6</td></tr>\n",
              "\t<tr><th scope=row>2</th><td>000088edf78cfaaf1791beba</td><td>1</td><td>RESTO URBANO</td><td>3</td><td>2</td><td>3</td><td>     0</td><td>300000</td><td>3</td><td>3</td><td>1032500</td><td>1032500</td><td>344166.7</td><td>121948.3</td><td>282748.7</td><td>0</td><td>0</td><td>000088edf78cfaaf1791beba</td><td> 185210.4</td><td> 185210.4</td></tr>\n",
              "\t<tr><th scope=row>3</th><td>00009b13480f6770b6a4d1e9</td><td>1</td><td>MANIZALES   </td><td>4</td><td>3</td><td>1</td><td>700000</td><td>     0</td><td>3</td><td>3</td><td>1800000</td><td>2500000</td><td>833333.3</td><td>120213.1</td><td>285285.5</td><td>0</td><td>0</td><td>00009b13480f6770b6a4d1e9</td><td> 661376.5</td><td> 661376.5</td></tr>\n",
              "\t<tr><th scope=row>4</th><td>0000f3ec65ccacadfcc59f32</td><td>1</td><td>SANTA MARTA </td><td>4</td><td>2</td><td>1</td><td>350000</td><td>     0</td><td>3</td><td>3</td><td>1812492</td><td>2162492</td><td>720830.7</td><td>121930.6</td><td>276485.7</td><td>0</td><td>0</td><td>0000f3ec65ccacadfcc59f32</td><td>1133639.1</td><td>1133639.1</td></tr>\n",
              "\t<tr><th scope=row>5</th><td>0001081bf03faa5ec019c393</td><td>1</td><td>ARMENIA     </td><td>4</td><td>2</td><td>3</td><td>     0</td><td>370000</td><td>4</td><td>4</td><td>1000000</td><td>1000000</td><td>250000.0</td><td>120434.7</td><td>274557.1</td><td>1</td><td>0</td><td>0001081bf03faa5ec019c393</td><td> 115935.5</td><td> 115935.5</td></tr>\n",
              "\t<tr><th scope=row>6</th><td>000118206b55d57ef327dc39</td><td>1</td><td>TUNJA       </td><td>4</td><td>3</td><td>3</td><td>     0</td><td>400000</td><td>5</td><td>5</td><td>1700000</td><td>1700000</td><td>340000.0</td><td>124044.4</td><td>279263.1</td><td>0</td><td>0</td><td>000118206b55d57ef327dc39</td><td> 752739.6</td><td> 752739.6</td></tr>\n",
              "</tbody>\n",
              "</table>\n"
            ],
            "text/markdown": "\nA data.frame: 6 × 20\n\n| <!--/--> | id &lt;chr&gt; | Clase &lt;int&gt; | Dominio &lt;chr&gt; | cuartos &lt;int&gt; | cuartosHab &lt;int&gt; | Propiedad &lt;int&gt; | ArriendoEst &lt;dbl&gt; | Arriendo &lt;dbl&gt; | Nper &lt;int&gt; | Npersug &lt;int&gt; | Ingtotug &lt;dbl&gt; | Ingtotugarr &lt;dbl&gt; | Ingpcug &lt;dbl&gt; | Li &lt;dbl&gt; | Lp &lt;dbl&gt; | Pobre &lt;int&gt; | Indigente &lt;int&gt; | Category &lt;chr&gt; | V1 &lt;dbl&gt; | Ingreso_pred_train_hogar &lt;dbl&gt; |\n|---|---|---|---|---|---|---|---|---|---|---|---|---|---|---|---|---|---|---|---|---|\n| 1 | 00004a3f76ed8c33d84a5c70 | 1 | RESTO URBANO | 3 | 2 | 1 | 250000 |      0 | 5 | 5 | 1076429 | 1326429 | 265285.9 | 121307.8 | 281549.3 | 1 | 0 | 00004a3f76ed8c33d84a5c70 |  663229.6 |  663229.6 |\n| 2 | 000088edf78cfaaf1791beba | 1 | RESTO URBANO | 3 | 2 | 3 |      0 | 300000 | 3 | 3 | 1032500 | 1032500 | 344166.7 | 121948.3 | 282748.7 | 0 | 0 | 000088edf78cfaaf1791beba |  185210.4 |  185210.4 |\n| 3 | 00009b13480f6770b6a4d1e9 | 1 | MANIZALES    | 4 | 3 | 1 | 700000 |      0 | 3 | 3 | 1800000 | 2500000 | 833333.3 | 120213.1 | 285285.5 | 0 | 0 | 00009b13480f6770b6a4d1e9 |  661376.5 |  661376.5 |\n| 4 | 0000f3ec65ccacadfcc59f32 | 1 | SANTA MARTA  | 4 | 2 | 1 | 350000 |      0 | 3 | 3 | 1812492 | 2162492 | 720830.7 | 121930.6 | 276485.7 | 0 | 0 | 0000f3ec65ccacadfcc59f32 | 1133639.1 | 1133639.1 |\n| 5 | 0001081bf03faa5ec019c393 | 1 | ARMENIA      | 4 | 2 | 3 |      0 | 370000 | 4 | 4 | 1000000 | 1000000 | 250000.0 | 120434.7 | 274557.1 | 1 | 0 | 0001081bf03faa5ec019c393 |  115935.5 |  115935.5 |\n| 6 | 000118206b55d57ef327dc39 | 1 | TUNJA        | 4 | 3 | 3 |      0 | 400000 | 5 | 5 | 1700000 | 1700000 | 340000.0 | 124044.4 | 279263.1 | 0 | 0 | 000118206b55d57ef327dc39 |  752739.6 |  752739.6 |\n\n",
            "text/latex": "A data.frame: 6 × 20\n\\begin{tabular}{r|llllllllllllllllllll}\n  & id & Clase & Dominio & cuartos & cuartosHab & Propiedad & ArriendoEst & Arriendo & Nper & Npersug & Ingtotug & Ingtotugarr & Ingpcug & Li & Lp & Pobre & Indigente & Category & V1 & Ingreso\\_pred\\_train\\_hogar\\\\\n  & <chr> & <int> & <chr> & <int> & <int> & <int> & <dbl> & <dbl> & <int> & <int> & <dbl> & <dbl> & <dbl> & <dbl> & <dbl> & <int> & <int> & <chr> & <dbl> & <dbl>\\\\\n\\hline\n\t1 & 00004a3f76ed8c33d84a5c70 & 1 & RESTO URBANO & 3 & 2 & 1 & 250000 &      0 & 5 & 5 & 1076429 & 1326429 & 265285.9 & 121307.8 & 281549.3 & 1 & 0 & 00004a3f76ed8c33d84a5c70 &  663229.6 &  663229.6\\\\\n\t2 & 000088edf78cfaaf1791beba & 1 & RESTO URBANO & 3 & 2 & 3 &      0 & 300000 & 3 & 3 & 1032500 & 1032500 & 344166.7 & 121948.3 & 282748.7 & 0 & 0 & 000088edf78cfaaf1791beba &  185210.4 &  185210.4\\\\\n\t3 & 00009b13480f6770b6a4d1e9 & 1 & MANIZALES    & 4 & 3 & 1 & 700000 &      0 & 3 & 3 & 1800000 & 2500000 & 833333.3 & 120213.1 & 285285.5 & 0 & 0 & 00009b13480f6770b6a4d1e9 &  661376.5 &  661376.5\\\\\n\t4 & 0000f3ec65ccacadfcc59f32 & 1 & SANTA MARTA  & 4 & 2 & 1 & 350000 &      0 & 3 & 3 & 1812492 & 2162492 & 720830.7 & 121930.6 & 276485.7 & 0 & 0 & 0000f3ec65ccacadfcc59f32 & 1133639.1 & 1133639.1\\\\\n\t5 & 0001081bf03faa5ec019c393 & 1 & ARMENIA      & 4 & 2 & 3 &      0 & 370000 & 4 & 4 & 1000000 & 1000000 & 250000.0 & 120434.7 & 274557.1 & 1 & 0 & 0001081bf03faa5ec019c393 &  115935.5 &  115935.5\\\\\n\t6 & 000118206b55d57ef327dc39 & 1 & TUNJA        & 4 & 3 & 3 &      0 & 400000 & 5 & 5 & 1700000 & 1700000 & 340000.0 & 124044.4 & 279263.1 & 0 & 0 & 000118206b55d57ef327dc39 &  752739.6 &  752739.6\\\\\n\\end{tabular}\n",
            "text/plain": [
              "  id                       Clase Dominio      cuartos cuartosHab Propiedad\n",
              "1 00004a3f76ed8c33d84a5c70 1     RESTO URBANO 3       2          1        \n",
              "2 000088edf78cfaaf1791beba 1     RESTO URBANO 3       2          3        \n",
              "3 00009b13480f6770b6a4d1e9 1     MANIZALES    4       3          1        \n",
              "4 0000f3ec65ccacadfcc59f32 1     SANTA MARTA  4       2          1        \n",
              "5 0001081bf03faa5ec019c393 1     ARMENIA      4       2          3        \n",
              "6 000118206b55d57ef327dc39 1     TUNJA        4       3          3        \n",
              "  ArriendoEst Arriendo Nper Npersug Ingtotug Ingtotugarr Ingpcug  Li      \n",
              "1 250000           0   5    5       1076429  1326429     265285.9 121307.8\n",
              "2      0      300000   3    3       1032500  1032500     344166.7 121948.3\n",
              "3 700000           0   3    3       1800000  2500000     833333.3 120213.1\n",
              "4 350000           0   3    3       1812492  2162492     720830.7 121930.6\n",
              "5      0      370000   4    4       1000000  1000000     250000.0 120434.7\n",
              "6      0      400000   5    5       1700000  1700000     340000.0 124044.4\n",
              "  Lp       Pobre Indigente Category                 V1       \n",
              "1 281549.3 1     0         00004a3f76ed8c33d84a5c70  663229.6\n",
              "2 282748.7 0     0         000088edf78cfaaf1791beba  185210.4\n",
              "3 285285.5 0     0         00009b13480f6770b6a4d1e9  661376.5\n",
              "4 276485.7 0     0         0000f3ec65ccacadfcc59f32 1133639.1\n",
              "5 274557.1 1     0         0001081bf03faa5ec019c393  115935.5\n",
              "6 279263.1 0     0         000118206b55d57ef327dc39  752739.6\n",
              "  Ingreso_pred_train_hogar\n",
              "1  663229.6               \n",
              "2  185210.4               \n",
              "3  661376.5               \n",
              "4 1133639.1               \n",
              "5  115935.5               \n",
              "6  752739.6               "
            ]
          },
          "metadata": {}
        }
      ]
    },
    {
      "cell_type": "code",
      "source": [
        "train_hogares_comparacion<-train_hogares_comparacion %>% mutate(Ingpcug_pred = (Ingreso_pred_train_hogar+ArriendoEst)/Npersug)\n",
        "train_hogares_comparacion<-train_hogares_comparacion %>% mutate(Pobre_pred = case_when(Ingpcug_pred >= Lp ~ 0,\n",
        "                                                                                       Ingpcug_pred < Lp ~ 1))\n",
        "train_hogares_comparacion <- train_hogares_comparacion %>% mutate_at(c('Pobre','Pobre_pred'), as.factor)\n"
      ],
      "metadata": {
        "id": "9Xyuqsy_ljLn"
      },
      "execution_count": 28,
      "outputs": []
    },
    {
      "cell_type": "code",
      "source": [
        "head(train_hogares_comparacion)"
      ],
      "metadata": {
        "colab": {
          "base_uri": "https://localhost:8080/",
          "height": 358
        },
        "id": "yH0VJMvymsVu",
        "outputId": "c7536662-9791-45ff-ea4b-326d0e5827bb"
      },
      "execution_count": 29,
      "outputs": [
        {
          "output_type": "display_data",
          "data": {
            "text/html": [
              "<table class=\"dataframe\">\n",
              "<caption>A data.frame: 6 × 22</caption>\n",
              "<thead>\n",
              "\t<tr><th></th><th scope=col>id</th><th scope=col>Clase</th><th scope=col>Dominio</th><th scope=col>cuartos</th><th scope=col>cuartosHab</th><th scope=col>Propiedad</th><th scope=col>ArriendoEst</th><th scope=col>Arriendo</th><th scope=col>Nper</th><th scope=col>Npersug</th><th scope=col>⋯</th><th scope=col>Ingpcug</th><th scope=col>Li</th><th scope=col>Lp</th><th scope=col>Pobre</th><th scope=col>Indigente</th><th scope=col>Category</th><th scope=col>V1</th><th scope=col>Ingreso_pred_train_hogar</th><th scope=col>Ingpcug_pred</th><th scope=col>Pobre_pred</th></tr>\n",
              "\t<tr><th></th><th scope=col>&lt;chr&gt;</th><th scope=col>&lt;int&gt;</th><th scope=col>&lt;chr&gt;</th><th scope=col>&lt;int&gt;</th><th scope=col>&lt;int&gt;</th><th scope=col>&lt;int&gt;</th><th scope=col>&lt;dbl&gt;</th><th scope=col>&lt;dbl&gt;</th><th scope=col>&lt;int&gt;</th><th scope=col>&lt;int&gt;</th><th scope=col>⋯</th><th scope=col>&lt;dbl&gt;</th><th scope=col>&lt;dbl&gt;</th><th scope=col>&lt;dbl&gt;</th><th scope=col>&lt;fct&gt;</th><th scope=col>&lt;int&gt;</th><th scope=col>&lt;chr&gt;</th><th scope=col>&lt;dbl&gt;</th><th scope=col>&lt;dbl&gt;</th><th scope=col>&lt;dbl&gt;</th><th scope=col>&lt;fct&gt;</th></tr>\n",
              "</thead>\n",
              "<tbody>\n",
              "\t<tr><th scope=row>1</th><td>00004a3f76ed8c33d84a5c70</td><td>1</td><td>RESTO URBANO</td><td>3</td><td>2</td><td>1</td><td>250000</td><td>     0</td><td>5</td><td>5</td><td>⋯</td><td>265285.9</td><td>121307.8</td><td>281549.3</td><td>1</td><td>0</td><td>00004a3f76ed8c33d84a5c70</td><td> 663229.6</td><td> 663229.6</td><td>182645.92</td><td>1</td></tr>\n",
              "\t<tr><th scope=row>2</th><td>000088edf78cfaaf1791beba</td><td>1</td><td>RESTO URBANO</td><td>3</td><td>2</td><td>3</td><td>     0</td><td>300000</td><td>3</td><td>3</td><td>⋯</td><td>344166.7</td><td>121948.3</td><td>282748.7</td><td>0</td><td>0</td><td>000088edf78cfaaf1791beba</td><td> 185210.4</td><td> 185210.4</td><td> 61736.80</td><td>1</td></tr>\n",
              "\t<tr><th scope=row>3</th><td>00009b13480f6770b6a4d1e9</td><td>1</td><td>MANIZALES   </td><td>4</td><td>3</td><td>1</td><td>700000</td><td>     0</td><td>3</td><td>3</td><td>⋯</td><td>833333.3</td><td>120213.1</td><td>285285.5</td><td>0</td><td>0</td><td>00009b13480f6770b6a4d1e9</td><td> 661376.5</td><td> 661376.5</td><td>453792.16</td><td>0</td></tr>\n",
              "\t<tr><th scope=row>4</th><td>0000f3ec65ccacadfcc59f32</td><td>1</td><td>SANTA MARTA </td><td>4</td><td>2</td><td>1</td><td>350000</td><td>     0</td><td>3</td><td>3</td><td>⋯</td><td>720830.7</td><td>121930.6</td><td>276485.7</td><td>0</td><td>0</td><td>0000f3ec65ccacadfcc59f32</td><td>1133639.1</td><td>1133639.1</td><td>494546.38</td><td>0</td></tr>\n",
              "\t<tr><th scope=row>5</th><td>0001081bf03faa5ec019c393</td><td>1</td><td>ARMENIA     </td><td>4</td><td>2</td><td>3</td><td>     0</td><td>370000</td><td>4</td><td>4</td><td>⋯</td><td>250000.0</td><td>120434.7</td><td>274557.1</td><td>1</td><td>0</td><td>0001081bf03faa5ec019c393</td><td> 115935.5</td><td> 115935.5</td><td> 28983.88</td><td>1</td></tr>\n",
              "\t<tr><th scope=row>6</th><td>000118206b55d57ef327dc39</td><td>1</td><td>TUNJA       </td><td>4</td><td>3</td><td>3</td><td>     0</td><td>400000</td><td>5</td><td>5</td><td>⋯</td><td>340000.0</td><td>124044.4</td><td>279263.1</td><td>0</td><td>0</td><td>000118206b55d57ef327dc39</td><td> 752739.6</td><td> 752739.6</td><td>150547.91</td><td>1</td></tr>\n",
              "</tbody>\n",
              "</table>\n"
            ],
            "text/markdown": "\nA data.frame: 6 × 22\n\n| <!--/--> | id &lt;chr&gt; | Clase &lt;int&gt; | Dominio &lt;chr&gt; | cuartos &lt;int&gt; | cuartosHab &lt;int&gt; | Propiedad &lt;int&gt; | ArriendoEst &lt;dbl&gt; | Arriendo &lt;dbl&gt; | Nper &lt;int&gt; | Npersug &lt;int&gt; | ⋯ ⋯ | Ingpcug &lt;dbl&gt; | Li &lt;dbl&gt; | Lp &lt;dbl&gt; | Pobre &lt;fct&gt; | Indigente &lt;int&gt; | Category &lt;chr&gt; | V1 &lt;dbl&gt; | Ingreso_pred_train_hogar &lt;dbl&gt; | Ingpcug_pred &lt;dbl&gt; | Pobre_pred &lt;fct&gt; |\n|---|---|---|---|---|---|---|---|---|---|---|---|---|---|---|---|---|---|---|---|---|---|\n| 1 | 00004a3f76ed8c33d84a5c70 | 1 | RESTO URBANO | 3 | 2 | 1 | 250000 |      0 | 5 | 5 | ⋯ | 265285.9 | 121307.8 | 281549.3 | 1 | 0 | 00004a3f76ed8c33d84a5c70 |  663229.6 |  663229.6 | 182645.92 | 1 |\n| 2 | 000088edf78cfaaf1791beba | 1 | RESTO URBANO | 3 | 2 | 3 |      0 | 300000 | 3 | 3 | ⋯ | 344166.7 | 121948.3 | 282748.7 | 0 | 0 | 000088edf78cfaaf1791beba |  185210.4 |  185210.4 |  61736.80 | 1 |\n| 3 | 00009b13480f6770b6a4d1e9 | 1 | MANIZALES    | 4 | 3 | 1 | 700000 |      0 | 3 | 3 | ⋯ | 833333.3 | 120213.1 | 285285.5 | 0 | 0 | 00009b13480f6770b6a4d1e9 |  661376.5 |  661376.5 | 453792.16 | 0 |\n| 4 | 0000f3ec65ccacadfcc59f32 | 1 | SANTA MARTA  | 4 | 2 | 1 | 350000 |      0 | 3 | 3 | ⋯ | 720830.7 | 121930.6 | 276485.7 | 0 | 0 | 0000f3ec65ccacadfcc59f32 | 1133639.1 | 1133639.1 | 494546.38 | 0 |\n| 5 | 0001081bf03faa5ec019c393 | 1 | ARMENIA      | 4 | 2 | 3 |      0 | 370000 | 4 | 4 | ⋯ | 250000.0 | 120434.7 | 274557.1 | 1 | 0 | 0001081bf03faa5ec019c393 |  115935.5 |  115935.5 |  28983.88 | 1 |\n| 6 | 000118206b55d57ef327dc39 | 1 | TUNJA        | 4 | 3 | 3 |      0 | 400000 | 5 | 5 | ⋯ | 340000.0 | 124044.4 | 279263.1 | 0 | 0 | 000118206b55d57ef327dc39 |  752739.6 |  752739.6 | 150547.91 | 1 |\n\n",
            "text/latex": "A data.frame: 6 × 22\n\\begin{tabular}{r|lllllllllllllllllllll}\n  & id & Clase & Dominio & cuartos & cuartosHab & Propiedad & ArriendoEst & Arriendo & Nper & Npersug & ⋯ & Ingpcug & Li & Lp & Pobre & Indigente & Category & V1 & Ingreso\\_pred\\_train\\_hogar & Ingpcug\\_pred & Pobre\\_pred\\\\\n  & <chr> & <int> & <chr> & <int> & <int> & <int> & <dbl> & <dbl> & <int> & <int> & ⋯ & <dbl> & <dbl> & <dbl> & <fct> & <int> & <chr> & <dbl> & <dbl> & <dbl> & <fct>\\\\\n\\hline\n\t1 & 00004a3f76ed8c33d84a5c70 & 1 & RESTO URBANO & 3 & 2 & 1 & 250000 &      0 & 5 & 5 & ⋯ & 265285.9 & 121307.8 & 281549.3 & 1 & 0 & 00004a3f76ed8c33d84a5c70 &  663229.6 &  663229.6 & 182645.92 & 1\\\\\n\t2 & 000088edf78cfaaf1791beba & 1 & RESTO URBANO & 3 & 2 & 3 &      0 & 300000 & 3 & 3 & ⋯ & 344166.7 & 121948.3 & 282748.7 & 0 & 0 & 000088edf78cfaaf1791beba &  185210.4 &  185210.4 &  61736.80 & 1\\\\\n\t3 & 00009b13480f6770b6a4d1e9 & 1 & MANIZALES    & 4 & 3 & 1 & 700000 &      0 & 3 & 3 & ⋯ & 833333.3 & 120213.1 & 285285.5 & 0 & 0 & 00009b13480f6770b6a4d1e9 &  661376.5 &  661376.5 & 453792.16 & 0\\\\\n\t4 & 0000f3ec65ccacadfcc59f32 & 1 & SANTA MARTA  & 4 & 2 & 1 & 350000 &      0 & 3 & 3 & ⋯ & 720830.7 & 121930.6 & 276485.7 & 0 & 0 & 0000f3ec65ccacadfcc59f32 & 1133639.1 & 1133639.1 & 494546.38 & 0\\\\\n\t5 & 0001081bf03faa5ec019c393 & 1 & ARMENIA      & 4 & 2 & 3 &      0 & 370000 & 4 & 4 & ⋯ & 250000.0 & 120434.7 & 274557.1 & 1 & 0 & 0001081bf03faa5ec019c393 &  115935.5 &  115935.5 &  28983.88 & 1\\\\\n\t6 & 000118206b55d57ef327dc39 & 1 & TUNJA        & 4 & 3 & 3 &      0 & 400000 & 5 & 5 & ⋯ & 340000.0 & 124044.4 & 279263.1 & 0 & 0 & 000118206b55d57ef327dc39 &  752739.6 &  752739.6 & 150547.91 & 1\\\\\n\\end{tabular}\n",
            "text/plain": [
              "  id                       Clase Dominio      cuartos cuartosHab Propiedad\n",
              "1 00004a3f76ed8c33d84a5c70 1     RESTO URBANO 3       2          1        \n",
              "2 000088edf78cfaaf1791beba 1     RESTO URBANO 3       2          3        \n",
              "3 00009b13480f6770b6a4d1e9 1     MANIZALES    4       3          1        \n",
              "4 0000f3ec65ccacadfcc59f32 1     SANTA MARTA  4       2          1        \n",
              "5 0001081bf03faa5ec019c393 1     ARMENIA      4       2          3        \n",
              "6 000118206b55d57ef327dc39 1     TUNJA        4       3          3        \n",
              "  ArriendoEst Arriendo Nper Npersug ⋯ Ingpcug  Li       Lp       Pobre\n",
              "1 250000           0   5    5       ⋯ 265285.9 121307.8 281549.3 1    \n",
              "2      0      300000   3    3       ⋯ 344166.7 121948.3 282748.7 0    \n",
              "3 700000           0   3    3       ⋯ 833333.3 120213.1 285285.5 0    \n",
              "4 350000           0   3    3       ⋯ 720830.7 121930.6 276485.7 0    \n",
              "5      0      370000   4    4       ⋯ 250000.0 120434.7 274557.1 1    \n",
              "6      0      400000   5    5       ⋯ 340000.0 124044.4 279263.1 0    \n",
              "  Indigente Category                 V1        Ingreso_pred_train_hogar\n",
              "1 0         00004a3f76ed8c33d84a5c70  663229.6  663229.6               \n",
              "2 0         000088edf78cfaaf1791beba  185210.4  185210.4               \n",
              "3 0         00009b13480f6770b6a4d1e9  661376.5  661376.5               \n",
              "4 0         0000f3ec65ccacadfcc59f32 1133639.1 1133639.1               \n",
              "5 0         0001081bf03faa5ec019c393  115935.5  115935.5               \n",
              "6 0         000118206b55d57ef327dc39  752739.6  752739.6               \n",
              "  Ingpcug_pred Pobre_pred\n",
              "1 182645.92    1         \n",
              "2  61736.80    1         \n",
              "3 453792.16    0         \n",
              "4 494546.38    0         \n",
              "5  28983.88    1         \n",
              "6 150547.91    1         "
            ]
          },
          "metadata": {}
        }
      ]
    },
    {
      "cell_type": "code",
      "source": [
        "glimpse(train_hogares_comparacion$Pobre_pred)\n",
        "summary(train_hogares_comparacion$Ingpcug_pred)"
      ],
      "metadata": {
        "colab": {
          "base_uri": "https://localhost:8080/",
          "height": 72
        },
        "id": "y6-B7czMnMnq",
        "outputId": "64da0372-dfd1-4930-bdea-f85958337512"
      },
      "execution_count": 30,
      "outputs": [
        {
          "output_type": "stream",
          "name": "stdout",
          "text": [
            " Factor w/ 2 levels \"0\",\"1\": 2 2 1 1 2 2 1 1 2 2 ...\n"
          ]
        },
        {
          "output_type": "display_data",
          "data": {
            "text/plain": [
              "   Min. 1st Qu.  Median    Mean 3rd Qu.    Max. \n",
              "      0  161734  268928  303250  399709 2085397 "
            ]
          },
          "metadata": {}
        }
      ]
    },
    {
      "cell_type": "code",
      "source": [
        "matriz_confusion <- conf_mat(data.frame(true = train_hogares_comparacion$Pobre, pred = train_hogares_comparacion$Pobre_pred),true,pred)\n",
        "\n",
        "matriz_confusion"
      ],
      "metadata": {
        "colab": {
          "base_uri": "https://localhost:8080/",
          "height": 90
        },
        "id": "92fpZiZHmpYS",
        "outputId": "87d05e6c-06ee-4923-ab6c-083f4f84216f"
      },
      "execution_count": 31,
      "outputs": [
        {
          "output_type": "display_data",
          "data": {
            "text/plain": [
              "          Truth\n",
              "Prediction     0     1\n",
              "         0 48099  1092\n",
              "         1 36942 21751"
            ]
          },
          "metadata": {}
        }
      ]
    },
    {
      "cell_type": "code",
      "source": [
        "pred_ingreso <- model %>% predict(x_test)\n",
        "pred_ingreso <- exp(pred_ingreso)\n"
      ],
      "metadata": {
        "id": "M3feFzLJiFQ3"
      },
      "execution_count": 32,
      "outputs": []
    },
    {
      "cell_type": "code",
      "source": [
        "summary(pred_ingreso)"
      ],
      "metadata": {
        "colab": {
          "base_uri": "https://localhost:8080/",
          "height": 145
        },
        "id": "gT7QaCZOjSUY",
        "outputId": "342719ba-f089-4464-a18c-4808310a5b42"
      },
      "execution_count": 33,
      "outputs": [
        {
          "output_type": "display_data",
          "data": {
            "text/plain": [
              "       V1        \n",
              " Min.   :     0  \n",
              " 1st Qu.:     0  \n",
              " Median : 80793  \n",
              " Mean   :185507  \n",
              " 3rd Qu.:368845  \n",
              " Max.   :561073  "
            ]
          },
          "metadata": {}
        }
      ]
    },
    {
      "cell_type": "code",
      "source": [
        "test_personas$Ingreso<-pred_ingreso\n",
        "\n",
        "summary(test_personas$Ingreso)\n",
        "\n",
        "Ingreso_hogar<-aggregate(test_personas$Ingreso, by=list(Category=test_personas$id), FUN=sum)\n",
        "\n",
        "head(Ingreso_hogar)"
      ],
      "metadata": {
        "colab": {
          "base_uri": "https://localhost:8080/",
          "height": 414
        },
        "id": "XAcBh53Ru1Yc",
        "outputId": "85319827-0387-4fb6-ccc4-4a0a6179506a"
      },
      "execution_count": 34,
      "outputs": [
        {
          "output_type": "display_data",
          "data": {
            "text/plain": [
              "       V1        \n",
              " Min.   :     0  \n",
              " 1st Qu.:     0  \n",
              " Median : 80793  \n",
              " Mean   :185507  \n",
              " 3rd Qu.:368845  \n",
              " Max.   :561073  "
            ]
          },
          "metadata": {}
        },
        {
          "output_type": "display_data",
          "data": {
            "text/html": [
              "<table class=\"dataframe\">\n",
              "<caption>A data.frame: 6 × 2</caption>\n",
              "<thead>\n",
              "\t<tr><th></th><th scope=col>Category</th><th scope=col>V1</th></tr>\n",
              "\t<tr><th></th><th scope=col>&lt;chr&gt;</th><th scope=col>&lt;dbl&gt;</th></tr>\n",
              "</thead>\n",
              "<tbody>\n",
              "\t<tr><th scope=row>1</th><td>00007322a7918c7799e7a514</td><td> 132374.7483</td></tr>\n",
              "\t<tr><th scope=row>2</th><td>0004847804c0618d4633b196</td><td>    111.0753</td></tr>\n",
              "\t<tr><th scope=row>3</th><td>0004add76858a3b0cc39eb9b</td><td>1052087.3308</td></tr>\n",
              "\t<tr><th scope=row>4</th><td>000804ac64d779b35ee5edfa</td><td> 849233.1134</td></tr>\n",
              "\t<tr><th scope=row>5</th><td>000b6a116b7f95b043a6e77b</td><td> 377747.7364</td></tr>\n",
              "\t<tr><th scope=row>6</th><td>000c2eff74d698f89f5721c7</td><td>1004658.3894</td></tr>\n",
              "</tbody>\n",
              "</table>\n"
            ],
            "text/markdown": "\nA data.frame: 6 × 2\n\n| <!--/--> | Category &lt;chr&gt; | V1 &lt;dbl&gt; |\n|---|---|---|\n| 1 | 00007322a7918c7799e7a514 |  132374.7483 |\n| 2 | 0004847804c0618d4633b196 |     111.0753 |\n| 3 | 0004add76858a3b0cc39eb9b | 1052087.3308 |\n| 4 | 000804ac64d779b35ee5edfa |  849233.1134 |\n| 5 | 000b6a116b7f95b043a6e77b |  377747.7364 |\n| 6 | 000c2eff74d698f89f5721c7 | 1004658.3894 |\n\n",
            "text/latex": "A data.frame: 6 × 2\n\\begin{tabular}{r|ll}\n  & Category & V1\\\\\n  & <chr> & <dbl>\\\\\n\\hline\n\t1 & 00007322a7918c7799e7a514 &  132374.7483\\\\\n\t2 & 0004847804c0618d4633b196 &     111.0753\\\\\n\t3 & 0004add76858a3b0cc39eb9b & 1052087.3308\\\\\n\t4 & 000804ac64d779b35ee5edfa &  849233.1134\\\\\n\t5 & 000b6a116b7f95b043a6e77b &  377747.7364\\\\\n\t6 & 000c2eff74d698f89f5721c7 & 1004658.3894\\\\\n\\end{tabular}\n",
            "text/plain": [
              "  Category                 V1          \n",
              "1 00007322a7918c7799e7a514  132374.7483\n",
              "2 0004847804c0618d4633b196     111.0753\n",
              "3 0004add76858a3b0cc39eb9b 1052087.3308\n",
              "4 000804ac64d779b35ee5edfa  849233.1134\n",
              "5 000b6a116b7f95b043a6e77b  377747.7364\n",
              "6 000c2eff74d698f89f5721c7 1004658.3894"
            ]
          },
          "metadata": {}
        }
      ]
    },
    {
      "cell_type": "code",
      "source": [
        "Ingreso_hogar$Ingreso<-Ingreso_hogar$V1\n",
        "Ingreso_hogar$id<-Ingreso_hogar$Category\n",
        "\n",
        "test_hogares_cargue<-merge(test_hogares, Ingreso_hogar, by='id', all.x=TRUE)\n",
        "\n",
        "test_hogares_cargue<-test_hogares_cargue %>% mutate(Ingpcug = (Ingreso+ArriendoEst)/Npersug)\n",
        "test_hogares_cargue<-test_hogares_cargue %>% mutate(Pobre = case_when(Ingpcug >= Lp ~ 0,\n",
        "                                                                      Ingpcug < Lp ~ 1))\n",
        "\n",
        "test_hogares_cargue<-test_hogares_cargue %>% select(id,Pobre)"
      ],
      "metadata": {
        "id": "mJ0e-hpOvBhm"
      },
      "execution_count": 35,
      "outputs": []
    },
    {
      "cell_type": "code",
      "source": [
        "head(test_hogares_cargue)\n",
        "glimpse(test_hogares_cargue)\n",
        "summary(test_hogares_cargue)"
      ],
      "metadata": {
        "colab": {
          "base_uri": "https://localhost:8080/",
          "height": 487
        },
        "id": "6DGMHfzQvR9d",
        "outputId": "ea533ed5-b242-4b52-9873-2e017b249ee8"
      },
      "execution_count": 36,
      "outputs": [
        {
          "output_type": "display_data",
          "data": {
            "text/html": [
              "<table class=\"dataframe\">\n",
              "<caption>A data.frame: 6 × 2</caption>\n",
              "<thead>\n",
              "\t<tr><th></th><th scope=col>id</th><th scope=col>Pobre</th></tr>\n",
              "\t<tr><th></th><th scope=col>&lt;chr&gt;</th><th scope=col>&lt;dbl&gt;</th></tr>\n",
              "</thead>\n",
              "<tbody>\n",
              "\t<tr><th scope=row>1</th><td>00007322a7918c7799e7a514</td><td>0</td></tr>\n",
              "\t<tr><th scope=row>2</th><td>0004847804c0618d4633b196</td><td>1</td></tr>\n",
              "\t<tr><th scope=row>3</th><td>0004add76858a3b0cc39eb9b</td><td>1</td></tr>\n",
              "\t<tr><th scope=row>4</th><td>000804ac64d779b35ee5edfa</td><td>1</td></tr>\n",
              "\t<tr><th scope=row>5</th><td>000b6a116b7f95b043a6e77b</td><td>0</td></tr>\n",
              "\t<tr><th scope=row>6</th><td>000c2eff74d698f89f5721c7</td><td>0</td></tr>\n",
              "</tbody>\n",
              "</table>\n"
            ],
            "text/markdown": "\nA data.frame: 6 × 2\n\n| <!--/--> | id &lt;chr&gt; | Pobre &lt;dbl&gt; |\n|---|---|---|\n| 1 | 00007322a7918c7799e7a514 | 0 |\n| 2 | 0004847804c0618d4633b196 | 1 |\n| 3 | 0004add76858a3b0cc39eb9b | 1 |\n| 4 | 000804ac64d779b35ee5edfa | 1 |\n| 5 | 000b6a116b7f95b043a6e77b | 0 |\n| 6 | 000c2eff74d698f89f5721c7 | 0 |\n\n",
            "text/latex": "A data.frame: 6 × 2\n\\begin{tabular}{r|ll}\n  & id & Pobre\\\\\n  & <chr> & <dbl>\\\\\n\\hline\n\t1 & 00007322a7918c7799e7a514 & 0\\\\\n\t2 & 0004847804c0618d4633b196 & 1\\\\\n\t3 & 0004add76858a3b0cc39eb9b & 1\\\\\n\t4 & 000804ac64d779b35ee5edfa & 1\\\\\n\t5 & 000b6a116b7f95b043a6e77b & 0\\\\\n\t6 & 000c2eff74d698f89f5721c7 & 0\\\\\n\\end{tabular}\n",
            "text/plain": [
              "  id                       Pobre\n",
              "1 00007322a7918c7799e7a514 0    \n",
              "2 0004847804c0618d4633b196 1    \n",
              "3 0004add76858a3b0cc39eb9b 1    \n",
              "4 000804ac64d779b35ee5edfa 1    \n",
              "5 000b6a116b7f95b043a6e77b 0    \n",
              "6 000c2eff74d698f89f5721c7 0    "
            ]
          },
          "metadata": {}
        },
        {
          "output_type": "stream",
          "name": "stdout",
          "text": [
            "Rows: 66,168\n",
            "Columns: 2\n",
            "$ id    \u001b[3m\u001b[90m<chr>\u001b[39m\u001b[23m \"00007322a7918c7799e7a514\", \"0004847804c0618d4633b196\", \"0004add…\n",
            "$ Pobre \u001b[3m\u001b[90m<dbl>\u001b[39m\u001b[23m 0, 1, 1, 1, 0, 0, 1, 1, 1, 1, 0, 1, 1, 1, 1, 0, 0, 1, 0, 1, 1, 1…\n"
          ]
        },
        {
          "output_type": "display_data",
          "data": {
            "text/plain": [
              "      id                Pobre       \n",
              " Length:66168       Min.   :0.0000  \n",
              " Class :character   1st Qu.:0.0000  \n",
              " Mode  :character   Median :1.0000  \n",
              "                    Mean   :0.5513  \n",
              "                    3rd Qu.:1.0000  \n",
              "                    Max.   :1.0000  "
            ]
          },
          "metadata": {}
        }
      ]
    },
    {
      "cell_type": "code",
      "source": [
        "write.csv(test_hogares_cargue, file='Redes_20.csv', row.names = FALSE)"
      ],
      "metadata": {
        "id": "bGFo4YMuvQsG"
      },
      "execution_count": 37,
      "outputs": []
    }
  ]
}