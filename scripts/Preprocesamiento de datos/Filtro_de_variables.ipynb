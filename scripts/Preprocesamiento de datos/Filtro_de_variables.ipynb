{
  "nbformat": 4,
  "nbformat_minor": 0,
  "metadata": {
    "colab": {
      "provenance": []
    },
    "kernelspec": {
      "name": "ir",
      "display_name": "R"
    },
    "language_info": {
      "name": "R"
    }
  },
  "cells": [
    {
      "cell_type": "code",
      "execution_count": 3,
      "metadata": {
        "colab": {
          "base_uri": "https://localhost:8080/"
        },
        "id": "aXJA3kVIBCtW",
        "outputId": "02dda362-cda3-4cbd-99b8-a6036e22d644"
      },
      "outputs": [
        {
          "output_type": "stream",
          "name": "stderr",
          "text": [
            "Installing package into ‘/usr/local/lib/R/site-library’\n",
            "(as ‘lib’ is unspecified)\n",
            "\n"
          ]
        }
      ],
      "source": [
        "install.packages(\"pacman\")\n",
        "library(pacman)"
      ]
    },
    {
      "cell_type": "code",
      "source": [
        "p_load(tidyverse,tidymodels)\n"
      ],
      "metadata": {
        "colab": {
          "base_uri": "https://localhost:8080/"
        },
        "id": "W7saKSRKBlZF",
        "outputId": "1a5ef868-51f5-4e34-cb56-c4057654fb7f"
      },
      "execution_count": 4,
      "outputs": [
        {
          "output_type": "stream",
          "name": "stderr",
          "text": [
            "Installing package into ‘/usr/local/lib/R/site-library’\n",
            "(as ‘lib’ is unspecified)\n",
            "\n",
            "also installing the dependencies ‘shape’, ‘future.apply’, ‘numDeriv’, ‘progressr’, ‘SQUAREM’, ‘Rcpp’, ‘diagram’, ‘lava’, ‘listenv’, ‘parallelly’, ‘prodlim’, ‘future’, ‘warp’, ‘iterators’, ‘lhs’, ‘DiceDesign’, ‘patchwork’, ‘globals’, ‘clock’, ‘gower’, ‘ipred’, ‘timeDate’, ‘furrr’, ‘slider’, ‘foreach’, ‘GPfit’, ‘modelenv’, ‘dials’, ‘hardhat’, ‘infer’, ‘modeldata’, ‘parsnip’, ‘recipes’, ‘rsample’, ‘tune’, ‘workflows’, ‘workflowsets’, ‘yardstick’\n",
            "\n",
            "\n",
            "\n",
            "tidymodels installed\n",
            "\n"
          ]
        }
      ]
    },
    {
      "cell_type": "markdown",
      "source": [
        "Selección de variables y cambio de nombre"
      ],
      "metadata": {
        "id": "D3CCBc3elvxb"
      }
    },
    {
      "cell_type": "markdown",
      "source": [
        "Base de datos train_hogares"
      ],
      "metadata": {
        "id": "tlrLPA0Al3vI"
      }
    },
    {
      "cell_type": "code",
      "source": [
        "train_hogares <- read.csv('/content/train_hogares.csv')\n",
        "train_hogares <- train_hogares %>% select('id', 'Clase', 'Dominio', 'P5000', 'P5010', 'P5090', 'P5100', 'P5130', 'P5140', 'Nper', 'Npersug', 'Ingtotug', 'Ingtotugarr', 'Ingpcug', 'Li', 'Lp', 'Pobre', 'Indigente')\n",
        "train_hogares <- train_hogares %>% rename(cuartos = P5000, cuartosHab = P5010, Propiedad = P5090, Amort = P5100, ArriendoEst = P5130, Arriendo = P5140)\n",
        "glimpse(train_hogares)\n"
      ],
      "metadata": {
        "colab": {
          "base_uri": "https://localhost:8080/"
        },
        "id": "eXPFUjpLBQ53",
        "outputId": "e3d567bf-3c30-475f-8ca4-c264af820c1b"
      },
      "execution_count": 19,
      "outputs": [
        {
          "output_type": "stream",
          "name": "stdout",
          "text": [
            "Rows: 164,960\n",
            "Columns: 18\n",
            "$ id          \u001b[3m\u001b[90m<chr>\u001b[39m\u001b[23m \"8d0193e328305a042001a35f\", \"cf7491d7f2cc9c216bd009e7\", \"d…\n",
            "$ Clase       \u001b[3m\u001b[90m<int>\u001b[39m\u001b[23m 1, 1, 1, 1, 1, 1, 1, 1, 1, 1, 1, 1, 1, 1, 1, 1, 1, 1, 1, 1…\n",
            "$ Dominio     \u001b[3m\u001b[90m<chr>\u001b[39m\u001b[23m \"MEDELLIN\", \"MEDELLIN\", \"MEDELLIN\", \"MEDELLIN\", \"MEDELLIN\"…\n",
            "$ cuartos     \u001b[3m\u001b[90m<int>\u001b[39m\u001b[23m 4, 5, 4, 3, 4, 3, 4, 4, 4, 4, 1, 1, 4, 3, 3, 3, 3, 4, 4, 4…\n",
            "$ cuartosHab  \u001b[3m\u001b[90m<int>\u001b[39m\u001b[23m 2, 4, 2, 1, 3, 2, 1, 3, 3, 1, 1, 1, 3, 1, 2, 1, 2, 3, 1, 3…\n",
            "$ Propiedad   \u001b[3m\u001b[90m<int>\u001b[39m\u001b[23m 1, 3, 1, 1, 3, 1, 1, 1, 1, 3, 3, 3, 1, 1, 3, 4, 3, 1, 4, 1…\n",
            "$ Amort       \u001b[3m\u001b[90m<dbl>\u001b[39m\u001b[23m NA, NA, NA, NA, NA, NA, NA, NA, NA, NA, NA, NA, NA, NA, NA…\n",
            "$ ArriendoEst \u001b[3m\u001b[90m<dbl>\u001b[39m\u001b[23m 400000, NA, 700000, 450000, NA, 400000, 700000, 750000, 60…\n",
            "$ Arriendo    \u001b[3m\u001b[90m<dbl>\u001b[39m\u001b[23m NA, 250000, NA, NA, 500000, NA, NA, NA, NA, 270000, 350000…\n",
            "$ Nper        \u001b[3m\u001b[90m<int>\u001b[39m\u001b[23m 5, 4, 3, 1, 5, 3, 1, 4, 4, 2, 1, 1, 3, 2, 3, 1, 3, 5, 2, 3…\n",
            "$ Npersug     \u001b[3m\u001b[90m<int>\u001b[39m\u001b[23m 5, 4, 3, 1, 5, 3, 1, 4, 4, 2, 1, 1, 3, 2, 3, 1, 3, 5, 2, 3…\n",
            "$ Ingtotug    \u001b[3m\u001b[90m<dbl>\u001b[39m\u001b[23m 2508330.3, 645000.0, 5300000.0, 2000000.0, 1260000.0, 2372…\n",
            "$ Ingtotugarr \u001b[3m\u001b[90m<dbl>\u001b[39m\u001b[23m 2908330.3, 645000.0, 6000000.0, 2450000.0, 1260000.0, 2772…\n",
            "$ Ingpcug     \u001b[3m\u001b[90m<dbl>\u001b[39m\u001b[23m 581666.1, 161250.0, 2000000.0, 2450000.0, 252000.0, 924037…\n",
            "$ Li          \u001b[3m\u001b[90m<dbl>\u001b[39m\u001b[23m 122809.5, 122809.5, 122809.5, 122809.5, 122809.5, 122809.5…\n",
            "$ Lp          \u001b[3m\u001b[90m<dbl>\u001b[39m\u001b[23m 289878.2, 289878.2, 289878.2, 289878.2, 289878.2, 289878.2…\n",
            "$ Pobre       \u001b[3m\u001b[90m<int>\u001b[39m\u001b[23m 0, 1, 0, 0, 1, 0, 0, 0, 0, 0, 0, 0, 0, 0, 0, 0, 0, 0, 0, 0…\n",
            "$ Indigente   \u001b[3m\u001b[90m<int>\u001b[39m\u001b[23m 0, 0, 0, 0, 0, 0, 0, 0, 0, 0, 0, 0, 0, 0, 0, 0, 0, 0, 0, 0…\n"
          ]
        }
      ]
    },
    {
      "cell_type": "markdown",
      "source": [
        "Base de datos test_hogares"
      ],
      "metadata": {
        "id": "E5RN5OPgmPTV"
      }
    },
    {
      "cell_type": "code",
      "source": [
        "test_hogares <- read.csv('/content/test_hogares.csv')\n",
        "test_hogares <- test_hogares %>% select('id', 'Clase', 'Dominio', 'P5000', 'P5010', 'P5090', 'P5100', 'P5130', 'P5140', 'Nper', 'Npersug', 'Li', 'Lp')\n",
        "test_hogares <- test_hogares %>% rename(cuartos = P5000, cuartosHab = P5010, Propiedad = P5090, Amort = P5100, ArriendoEst = P5130, Arriendo = P5140)\n",
        "glimpse(test_hogares)"
      ],
      "metadata": {
        "colab": {
          "base_uri": "https://localhost:8080/"
        },
        "id": "SUqtBSaDmN2l",
        "outputId": "599bd96d-d607-4dd2-f826-1b440925574c"
      },
      "execution_count": 20,
      "outputs": [
        {
          "output_type": "stream",
          "name": "stdout",
          "text": [
            "Rows: 66,168\n",
            "Columns: 13\n",
            "$ id          \u001b[3m\u001b[90m<chr>\u001b[39m\u001b[23m \"2a7ddc2779480d7f19834953\", \"a0c2e751e582fd49d564f308\", \"5…\n",
            "$ Clase       \u001b[3m\u001b[90m<int>\u001b[39m\u001b[23m 1, 1, 2, 1, 1, 1, 1, 1, 1, 1, 1, 1, 1, 1, 1, 2, 1, 1, 1, 1…\n",
            "$ Dominio     \u001b[3m\u001b[90m<chr>\u001b[39m\u001b[23m \"SANTA MARTA\", \"SANTA MARTA\", \"RURAL\", \"MEDELLIN\", \"MEDELL…\n",
            "$ cuartos     \u001b[3m\u001b[90m<int>\u001b[39m\u001b[23m 4, 4, 3, 4, 5, 5, 4, 4, 4, 3, 3, 4, 4, 4, 3, 3, 4, 3, 3, 6…\n",
            "$ cuartosHab  \u001b[3m\u001b[90m<int>\u001b[39m\u001b[23m 3, 3, 1, 3, 2, 3, 2, 2, 3, 2, 2, 3, 1, 3, 1, 2, 2, 1, 1, 2…\n",
            "$ Propiedad   \u001b[3m\u001b[90m<int>\u001b[39m\u001b[23m 1, 4, 1, 1, 2, 1, 1, 1, 3, 3, 1, 3, 1, 3, 3, 4, 3, 1, 3, 4…\n",
            "$ Amort       \u001b[3m\u001b[90m<dbl>\u001b[39m\u001b[23m NA, NA, NA, NA, 1800000, NA, NA, NA, NA, NA, NA, NA, NA, N…\n",
            "$ ArriendoEst \u001b[3m\u001b[90m<dbl>\u001b[39m\u001b[23m 400000, 500000, 250000, 600000, 2000000, 550000, 350000, 6…\n",
            "$ Arriendo    \u001b[3m\u001b[90m<dbl>\u001b[39m\u001b[23m NA, NA, NA, NA, NA, NA, NA, NA, 900000, 500000, NA, 550000…\n",
            "$ Nper        \u001b[3m\u001b[90m<int>\u001b[39m\u001b[23m 5, 6, 2, 5, 2, 3, 3, 3, 3, 4, 4, 6, 1, 7, 3, 4, 3, 2, 2, 2…\n",
            "$ Npersug     \u001b[3m\u001b[90m<int>\u001b[39m\u001b[23m 5, 6, 2, 5, 2, 3, 3, 3, 3, 4, 4, 6, 1, 7, 3, 4, 3, 2, 2, 2…\n",
            "$ Li          \u001b[3m\u001b[90m<dbl>\u001b[39m\u001b[23m 121449.45, 121449.45, 100763.34, 122251.78, 123664.36, 119…\n",
            "$ Lp          \u001b[3m\u001b[90m<dbl>\u001b[39m\u001b[23m 275594.0, 275594.0, 170886.4, 294093.7, 293293.4, 283609.8…\n"
          ]
        }
      ]
    },
    {
      "cell_type": "markdown",
      "source": [
        "Base de datos train_personas"
      ],
      "metadata": {
        "id": "fl5f1Ke6nG8z"
      }
    },
    {
      "cell_type": "code",
      "source": [
        "train_personas <- read.csv('/content/train_personas.csv')\n",
        "train_personas <- train_personas %>% select('id', 'P6020', 'P6040', 'P6050', 'P6090', 'P6100', 'P6210', 'P6430', 'P6585s1', 'P6585s2', 'P6585s3', 'P6585s4', 'P6630s4', 'P6630s6', 'P6800', 'P6870', 'P6920', 'P7090', 'P7495', 'P7510s3', 'P7510s5', 'Pet', 'Oc', 'Des', 'Ina', 'Ingtot')\n",
        "train_personas <- train_personas %>% rename(Sexo = P6020, Edad = P6040, JefeHogar = P6050, FormalSalud = P6090, SeguridadSocial = P6100, maxEducLevel = P6210, relab = P6430, SubsAlimen = P6585s1, SubsTrans = P6585s2, SubsFamil = P6585s3, SubsEducativo = P6585s4, Viaticos = P6630s4, Bonificaciones = P6630s6, hoursWorkUsual = P6800, sizeFirm = P6870, FormalPension = P6920, MasHoras = P7090, PagosExtraPensArri = P7495, Ayuda = P7510s3, GanancFinan = P7510s5, EdadTrabajo = Pet, Ocu = Oc, Desocu = Des, Inact = Ina, Ingreso = Ingtot)\n",
        "glimpse(train_personas)"
      ],
      "metadata": {
        "colab": {
          "base_uri": "https://localhost:8080/"
        },
        "id": "1qWbJw8qnQP9",
        "outputId": "674454bb-27bd-457f-d894-3f9fe521b983"
      },
      "execution_count": 21,
      "outputs": [
        {
          "output_type": "stream",
          "name": "stdout",
          "text": [
            "Rows: 543,109\n",
            "Columns: 26\n",
            "$ id                 \u001b[3m\u001b[90m<chr>\u001b[39m\u001b[23m \"8d0193e328305a042001a35f\", \"8d0193e328305a042001a3…\n",
            "$ Sexo               \u001b[3m\u001b[90m<int>\u001b[39m\u001b[23m 2, 1, 1, 1, 1, 1, 1, 1, 2, 1, 2, 2, 1, 1, 2, 1, 2, …\n",
            "$ Edad               \u001b[3m\u001b[90m<int>\u001b[39m\u001b[23m 38, 3, 41, 3, 11, 53, 34, 64, 60, 50, 71, 38, 43, 3…\n",
            "$ JefeHogar          \u001b[3m\u001b[90m<int>\u001b[39m\u001b[23m 2, 3, 1, 3, 3, 5, 3, 1, 2, 2, 5, 1, 1, 4, 3, 4, 2, …\n",
            "$ FormalSalud        \u001b[3m\u001b[90m<int>\u001b[39m\u001b[23m 1, NA, 1, NA, NA, 1, 1, 1, 1, 1, 1, 2, 1, NA, 1, NA…\n",
            "$ SeguridadSocial    \u001b[3m\u001b[90m<int>\u001b[39m\u001b[23m 1, NA, 1, NA, NA, 3, 3, 1, 1, 1, 1, NA, 3, NA, 3, N…\n",
            "$ maxEducLevel       \u001b[3m\u001b[90m<int>\u001b[39m\u001b[23m 3, 2, 5, 2, 4, 1, 1, 4, 3, 4, 3, 6, 3, 2, 6, NA, 3,…\n",
            "$ relab              \u001b[3m\u001b[90m<int>\u001b[39m\u001b[23m 1, NA, 1, NA, NA, NA, NA, NA, NA, 4, NA, NA, 5, NA,…\n",
            "$ SubsAlimen         \u001b[3m\u001b[90m<int>\u001b[39m\u001b[23m 2, NA, 2, NA, NA, NA, NA, NA, NA, NA, NA, NA, NA, N…\n",
            "$ SubsTrans          \u001b[3m\u001b[90m<int>\u001b[39m\u001b[23m 1, NA, 1, NA, NA, NA, NA, NA, NA, NA, NA, NA, NA, N…\n",
            "$ SubsFamil          \u001b[3m\u001b[90m<int>\u001b[39m\u001b[23m 1, NA, 1, NA, NA, NA, NA, NA, NA, NA, NA, NA, NA, N…\n",
            "$ SubsEducativo      \u001b[3m\u001b[90m<int>\u001b[39m\u001b[23m 2, NA, 2, NA, NA, NA, NA, NA, NA, NA, NA, NA, NA, N…\n",
            "$ Viaticos           \u001b[3m\u001b[90m<int>\u001b[39m\u001b[23m 2, NA, 2, NA, NA, NA, NA, NA, NA, NA, NA, NA, NA, N…\n",
            "$ Bonificaciones     \u001b[3m\u001b[90m<int>\u001b[39m\u001b[23m 2, NA, 2, NA, NA, NA, NA, NA, NA, NA, NA, NA, NA, N…\n",
            "$ hoursWorkUsual     \u001b[3m\u001b[90m<int>\u001b[39m\u001b[23m 48, NA, 60, NA, NA, NA, NA, NA, NA, 60, NA, NA, 50,…\n",
            "$ sizeFirm           \u001b[3m\u001b[90m<int>\u001b[39m\u001b[23m 4, NA, 9, NA, NA, NA, NA, NA, NA, 1, NA, NA, 2, NA,…\n",
            "$ FormalPension      \u001b[3m\u001b[90m<int>\u001b[39m\u001b[23m 1, NA, 1, NA, NA, NA, NA, NA, NA, 2, NA, NA, 2, NA,…\n",
            "$ MasHoras           \u001b[3m\u001b[90m<int>\u001b[39m\u001b[23m 2, NA, 2, NA, NA, NA, NA, NA, NA, 2, NA, NA, 2, NA,…\n",
            "$ PagosExtraPensArri \u001b[3m\u001b[90m<int>\u001b[39m\u001b[23m 2, NA, 2, NA, NA, 2, 2, 1, 2, 1, 1, 1, 2, NA, 1, NA…\n",
            "$ Ayuda              \u001b[3m\u001b[90m<int>\u001b[39m\u001b[23m NA, NA, 2, NA, NA, NA, NA, 2, NA, NA, 2, NA, NA, NA…\n",
            "$ GanancFinan        \u001b[3m\u001b[90m<int>\u001b[39m\u001b[23m NA, NA, 2, NA, NA, NA, NA, 2, NA, NA, 2, NA, NA, NA…\n",
            "$ EdadTrabajo        \u001b[3m\u001b[90m<int>\u001b[39m\u001b[23m 1, NA, 1, NA, NA, 1, 1, 1, 1, 1, 1, 1, 1, NA, 1, NA…\n",
            "$ Ocu                \u001b[3m\u001b[90m<int>\u001b[39m\u001b[23m 1, NA, 1, NA, NA, NA, NA, NA, NA, 1, NA, NA, 1, NA,…\n",
            "$ Desocu             \u001b[3m\u001b[90m<int>\u001b[39m\u001b[23m NA, NA, NA, NA, NA, NA, NA, 1, 1, NA, NA, NA, NA, N…\n",
            "$ Inact              \u001b[3m\u001b[90m<int>\u001b[39m\u001b[23m NA, NA, NA, NA, NA, 1, 1, NA, NA, NA, 1, 1, NA, NA,…\n",
            "$ Ingreso            \u001b[3m\u001b[90m<dbl>\u001b[39m\u001b[23m 1109190, NA, 1399140, NA, NA, 0, 0, 645000, 0, 1500…\n"
          ]
        }
      ]
    },
    {
      "cell_type": "markdown",
      "source": [
        "Base de datos test_personas"
      ],
      "metadata": {
        "id": "JvPmbAIapPRp"
      }
    },
    {
      "cell_type": "code",
      "source": [
        "test_personas <- read.csv('/content/test_personas.csv')\n",
        "test_personas <- test_personas %>% select('id', 'P6020', 'P6040', 'P6050', 'P6090', 'P6100', 'P6210', 'P6430', 'P6585s1', 'P6585s2', 'P6585s3', 'P6585s4', 'P6630s4', 'P6630s6', 'P6800', 'P6870', 'P6920', 'P7090', 'P7495', 'P7510s3', 'P7510s5', 'Pet', 'Oc', 'Des', 'Ina')\n",
        "test_personas <- test_personas %>% rename(Sexo = P6020, Edad = P6040, JefeHogar = P6050, FormalSalud = P6090, SeguridadSocial = P6100, maxEducLevel = P6210, relab = P6430, SubsAlimen = P6585s1, SubsTrans = P6585s2, SubsFamil = P6585s3, SubsEducativo = P6585s4, Viaticos = P6630s4, Bonificaciones = P6630s6, hoursWorkUsual = P6800, sizeFirm = P6870, FormalPension = P6920, MasHoras = P7090, PagosExtraPensArri = P7495, Ayuda = P7510s3, GanancFinan = P7510s5, EdadTrabajo = Pet, Ocu = Oc, Desocu = Des, Inact = Ina)\n",
        "glimpse(test_personas)"
      ],
      "metadata": {
        "colab": {
          "base_uri": "https://localhost:8080/"
        },
        "id": "_z0qs-SapX6B",
        "outputId": "ef606048-d34a-416c-b334-d16148f3bffd"
      },
      "execution_count": 22,
      "outputs": [
        {
          "output_type": "stream",
          "name": "stdout",
          "text": [
            "Rows: 219,644\n",
            "Columns: 25\n",
            "$ id                 \u001b[3m\u001b[90m<chr>\u001b[39m\u001b[23m \"3279230a4917cdf883df34cd\", \"3279230a4917cdf883df34…\n",
            "$ Sexo               \u001b[3m\u001b[90m<int>\u001b[39m\u001b[23m 1, 2, 2, 1, 1, 2, 2, 2, 1, 1, 2, 2, 1, 2, 2, 2, 2, …\n",
            "$ Edad               \u001b[3m\u001b[90m<int>\u001b[39m\u001b[23m 33, 7, 37, 5, 27, 24, 51, 20, 54, 29, 1, 25, 7, 10,…\n",
            "$ JefeHogar          \u001b[3m\u001b[90m<int>\u001b[39m\u001b[23m 1, 3, 2, 3, 1, 2, 2, 3, 1, 1, 3, 2, 3, 4, 3, 3, 1, …\n",
            "$ FormalSalud        \u001b[3m\u001b[90m<int>\u001b[39m\u001b[23m 1, NA, 1, NA, 1, 1, 1, 1, 1, 1, NA, 1, NA, NA, 1, 1…\n",
            "$ SeguridadSocial    \u001b[3m\u001b[90m<int>\u001b[39m\u001b[23m 1, NA, 1, NA, 1, 1, 1, 1, 1, 3, NA, 3, NA, NA, 1, 3…\n",
            "$ maxEducLevel       \u001b[3m\u001b[90m<int>\u001b[39m\u001b[23m 6, 3, 6, 2, 5, 6, 3, 5, 3, 5, NA, 6, 3, 3, 5, 6, 3,…\n",
            "$ relab              \u001b[3m\u001b[90m<int>\u001b[39m\u001b[23m 1, NA, 3, NA, 4, 1, NA, 1, 1, 4, NA, NA, NA, NA, 1,…\n",
            "$ SubsAlimen         \u001b[3m\u001b[90m<int>\u001b[39m\u001b[23m 2, NA, 2, NA, NA, 2, NA, 2, 2, NA, NA, NA, NA, NA, …\n",
            "$ SubsTrans          \u001b[3m\u001b[90m<int>\u001b[39m\u001b[23m 2, NA, 2, NA, NA, 2, NA, 1, 1, NA, NA, NA, NA, NA, …\n",
            "$ SubsFamil          \u001b[3m\u001b[90m<int>\u001b[39m\u001b[23m 2, NA, 2, NA, NA, 2, NA, 2, 2, NA, NA, NA, NA, NA, …\n",
            "$ SubsEducativo      \u001b[3m\u001b[90m<int>\u001b[39m\u001b[23m 2, NA, 2, NA, NA, 2, NA, 2, 2, NA, NA, NA, NA, NA, …\n",
            "$ Viaticos           \u001b[3m\u001b[90m<int>\u001b[39m\u001b[23m 2, NA, 2, NA, NA, 2, NA, 2, 2, NA, NA, NA, NA, NA, …\n",
            "$ Bonificaciones     \u001b[3m\u001b[90m<int>\u001b[39m\u001b[23m 2, NA, 2, NA, NA, 2, NA, 2, 2, NA, NA, NA, NA, NA, …\n",
            "$ hoursWorkUsual     \u001b[3m\u001b[90m<int>\u001b[39m\u001b[23m 50, NA, 8, NA, 48, 48, NA, 48, 48, 60, NA, NA, NA, …\n",
            "$ sizeFirm           \u001b[3m\u001b[90m<int>\u001b[39m\u001b[23m 7, NA, 1, NA, 1, 8, NA, 4, 4, 1, NA, NA, NA, NA, 4,…\n",
            "$ FormalPension      \u001b[3m\u001b[90m<int>\u001b[39m\u001b[23m 1, NA, 2, NA, 2, 1, NA, 1, 1, 2, NA, NA, NA, NA, 2,…\n",
            "$ MasHoras           \u001b[3m\u001b[90m<int>\u001b[39m\u001b[23m 2, NA, 1, NA, 2, 2, NA, 2, 2, 2, NA, NA, NA, NA, 2,…\n",
            "$ PagosExtraPensArri \u001b[3m\u001b[90m<int>\u001b[39m\u001b[23m 2, NA, 2, NA, 1, 2, 2, 2, 2, 2, NA, 2, NA, NA, 2, 2…\n",
            "$ Ayuda              \u001b[3m\u001b[90m<int>\u001b[39m\u001b[23m NA, NA, NA, NA, NA, 2, NA, 2, 2, 1, NA, NA, NA, NA,…\n",
            "$ GanancFinan        \u001b[3m\u001b[90m<int>\u001b[39m\u001b[23m NA, NA, NA, NA, NA, 2, NA, 2, 2, 2, NA, NA, NA, NA,…\n",
            "$ EdadTrabajo        \u001b[3m\u001b[90m<int>\u001b[39m\u001b[23m 1, NA, 1, NA, 1, 1, 1, 1, 1, 1, NA, 1, NA, NA, 1, 1…\n",
            "$ Ocu                \u001b[3m\u001b[90m<int>\u001b[39m\u001b[23m 1, NA, 1, NA, 1, 1, NA, 1, 1, 1, NA, NA, NA, NA, 1,…\n",
            "$ Desocu             \u001b[3m\u001b[90m<int>\u001b[39m\u001b[23m NA, NA, NA, NA, NA, NA, NA, NA, NA, NA, NA, NA, NA,…\n",
            "$ Inact              \u001b[3m\u001b[90m<int>\u001b[39m\u001b[23m NA, NA, NA, NA, NA, NA, 1, NA, NA, NA, NA, 1, NA, N…\n"
          ]
        }
      ]
    },
    {
      "cell_type": "markdown",
      "source": [
        "Exportar bases de datos"
      ],
      "metadata": {
        "id": "wzkQC8lhvHw_"
      }
    },
    {
      "cell_type": "code",
      "source": [
        "write.csv(train_hogares, file='train_hogares_1.csv')\n",
        "write.csv(test_hogares, file='test_hogares_1.csv')\n",
        "write.csv(train_personas, file='train_personas_1.csv')\n",
        "write.csv(test_personas, file='test_personas_1.csv')"
      ],
      "metadata": {
        "id": "hY6V6C8hvG9n"
      },
      "execution_count": 24,
      "outputs": []
    }
  ]
}